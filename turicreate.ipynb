{
 "cells": [
  {
   "cell_type": "code",
   "execution_count": 3,
   "metadata": {},
   "outputs": [
    {
     "name": "stdout",
     "output_type": "stream",
     "text": [
      "The operation couldn’t be completed. Unable to locate a Java Runtime that supports apt.\n",
      "Please visit http://www.java.com for information on installing Java.\n",
      "\n",
      "sudo: add-apt-repository: command not found\n",
      "The operation couldn’t be completed. Unable to locate a Java Runtime that supports apt.\n",
      "Please visit http://www.java.com for information on installing Java.\n",
      "\n",
      "The operation couldn’t be completed. Unable to locate a Java Runtime that supports apt.\n",
      "Please visit http://www.java.com for information on installing Java.\n",
      "\n"
     ]
    }
   ],
   "source": [
    "!sudo apt install software-properties-common\n",
    "!sudo add-apt-repository ppa:deadsnakes/ppa\n",
    "!sudo apt update\n",
    "!sudo apt install python3.8 -y"
   ]
  },
  {
   "cell_type": "code",
   "execution_count": 5,
   "metadata": {},
   "outputs": [
    {
     "name": "stdout",
     "output_type": "stream",
     "text": [
      "Requirement already satisfied: turicreate in /Users/marc/.pyenv/versions/3.8-dev/lib/python3.8/site-packages (6.4.1)\n",
      "Requirement already satisfied: coremltools==4.0b3 in /Users/marc/.pyenv/versions/3.8-dev/lib/python3.8/site-packages (from turicreate) (4.0b3)\n",
      "Requirement already satisfied: tensorflow>=2.0.0 in /Users/marc/.pyenv/versions/3.8-dev/lib/python3.8/site-packages (from turicreate) (2.11.0)\n",
      "Requirement already satisfied: prettytable==0.7.2 in /Users/marc/.pyenv/versions/3.8-dev/lib/python3.8/site-packages (from turicreate) (0.7.2)\n",
      "Requirement already satisfied: resampy==0.2.1 in /Users/marc/.pyenv/versions/3.8-dev/lib/python3.8/site-packages (from turicreate) (0.2.1)\n",
      "Requirement already satisfied: six>=1.10.0 in /Users/marc/.pyenv/versions/3.8-dev/lib/python3.8/site-packages (from turicreate) (1.16.0)\n",
      "Requirement already satisfied: pillow>=5.2.0 in /Users/marc/.pyenv/versions/3.8-dev/lib/python3.8/site-packages (from turicreate) (9.4.0)\n",
      "Requirement already satisfied: requests>=2.9.1 in /Users/marc/.pyenv/versions/3.8-dev/lib/python3.8/site-packages (from turicreate) (2.28.2)\n",
      "Requirement already satisfied: scipy>=1.1.0 in /Users/marc/.pyenv/versions/3.8-dev/lib/python3.8/site-packages (from turicreate) (1.10.0)\n",
      "Requirement already satisfied: pandas>=0.23.2 in /Users/marc/.pyenv/versions/3.8-dev/lib/python3.8/site-packages (from turicreate) (1.5.3)\n",
      "Requirement already satisfied: decorator>=4.0.9 in /Users/marc/.pyenv/versions/3.8-dev/lib/python3.8/site-packages (from turicreate) (5.1.1)\n",
      "Requirement already satisfied: numpy in /Users/marc/.pyenv/versions/3.8-dev/lib/python3.8/site-packages (from turicreate) (1.23.5)\n",
      "Requirement already satisfied: sympy in /Users/marc/.pyenv/versions/3.8-dev/lib/python3.8/site-packages (from coremltools==4.0b3->turicreate) (1.11.1)\n",
      "Requirement already satisfied: attrs in /Users/marc/.pyenv/versions/3.8-dev/lib/python3.8/site-packages (from coremltools==4.0b3->turicreate) (22.2.0)\n",
      "Requirement already satisfied: tqdm in /Users/marc/.pyenv/versions/3.8-dev/lib/python3.8/site-packages (from coremltools==4.0b3->turicreate) (4.64.1)\n",
      "Requirement already satisfied: protobuf>=3.1.0 in /Users/marc/.pyenv/versions/3.8-dev/lib/python3.8/site-packages (from coremltools==4.0b3->turicreate) (3.19.6)\n",
      "Requirement already satisfied: attr in /Users/marc/.pyenv/versions/3.8-dev/lib/python3.8/site-packages (from coremltools==4.0b3->turicreate) (0.3.2)\n",
      "Requirement already satisfied: numba>=0.32 in /Users/marc/.pyenv/versions/3.8-dev/lib/python3.8/site-packages (from resampy==0.2.1->turicreate) (0.56.4)\n",
      "Requirement already satisfied: python-dateutil>=2.8.1 in /Users/marc/.pyenv/versions/3.8-dev/lib/python3.8/site-packages (from pandas>=0.23.2->turicreate) (2.8.2)\n",
      "Requirement already satisfied: pytz>=2020.1 in /Users/marc/.pyenv/versions/3.8-dev/lib/python3.8/site-packages (from pandas>=0.23.2->turicreate) (2022.7.1)\n",
      "Requirement already satisfied: certifi>=2017.4.17 in /Users/marc/.pyenv/versions/3.8-dev/lib/python3.8/site-packages (from requests>=2.9.1->turicreate) (2022.12.7)\n",
      "Requirement already satisfied: urllib3<1.27,>=1.21.1 in /Users/marc/.pyenv/versions/3.8-dev/lib/python3.8/site-packages (from requests>=2.9.1->turicreate) (1.26.14)\n",
      "Requirement already satisfied: charset-normalizer<4,>=2 in /Users/marc/.pyenv/versions/3.8-dev/lib/python3.8/site-packages (from requests>=2.9.1->turicreate) (3.0.1)\n",
      "Requirement already satisfied: idna<4,>=2.5 in /Users/marc/.pyenv/versions/3.8-dev/lib/python3.8/site-packages (from requests>=2.9.1->turicreate) (3.4)\n",
      "Requirement already satisfied: opt-einsum>=2.3.2 in /Users/marc/.pyenv/versions/3.8-dev/lib/python3.8/site-packages (from tensorflow>=2.0.0->turicreate) (3.3.0)\n",
      "Requirement already satisfied: termcolor>=1.1.0 in /Users/marc/.pyenv/versions/3.8-dev/lib/python3.8/site-packages (from tensorflow>=2.0.0->turicreate) (2.2.0)\n",
      "Requirement already satisfied: tensorflow-io-gcs-filesystem>=0.23.1 in /Users/marc/.pyenv/versions/3.8-dev/lib/python3.8/site-packages (from tensorflow>=2.0.0->turicreate) (0.30.0)\n",
      "Requirement already satisfied: wrapt>=1.11.0 in /Users/marc/.pyenv/versions/3.8-dev/lib/python3.8/site-packages (from tensorflow>=2.0.0->turicreate) (1.14.1)\n",
      "Requirement already satisfied: gast<=0.4.0,>=0.2.1 in /Users/marc/.pyenv/versions/3.8-dev/lib/python3.8/site-packages (from tensorflow>=2.0.0->turicreate) (0.4.0)\n",
      "Requirement already satisfied: setuptools in /Users/marc/.pyenv/versions/3.8-dev/lib/python3.8/site-packages (from tensorflow>=2.0.0->turicreate) (56.0.0)\n",
      "Requirement already satisfied: libclang>=13.0.0 in /Users/marc/.pyenv/versions/3.8-dev/lib/python3.8/site-packages (from tensorflow>=2.0.0->turicreate) (15.0.6.1)\n",
      "Requirement already satisfied: flatbuffers>=2.0 in /Users/marc/.pyenv/versions/3.8-dev/lib/python3.8/site-packages (from tensorflow>=2.0.0->turicreate) (23.1.21)\n",
      "Requirement already satisfied: tensorflow-estimator<2.12,>=2.11.0 in /Users/marc/.pyenv/versions/3.8-dev/lib/python3.8/site-packages (from tensorflow>=2.0.0->turicreate) (2.11.0)\n",
      "Requirement already satisfied: typing-extensions>=3.6.6 in /Users/marc/.pyenv/versions/3.8-dev/lib/python3.8/site-packages (from tensorflow>=2.0.0->turicreate) (4.4.0)\n",
      "Requirement already satisfied: tensorboard<2.12,>=2.11 in /Users/marc/.pyenv/versions/3.8-dev/lib/python3.8/site-packages (from tensorflow>=2.0.0->turicreate) (2.11.2)\n",
      "Requirement already satisfied: google-pasta>=0.1.1 in /Users/marc/.pyenv/versions/3.8-dev/lib/python3.8/site-packages (from tensorflow>=2.0.0->turicreate) (0.2.0)\n",
      "Requirement already satisfied: packaging in /Users/marc/.pyenv/versions/3.8-dev/lib/python3.8/site-packages (from tensorflow>=2.0.0->turicreate) (23.0)\n",
      "Requirement already satisfied: keras<2.12,>=2.11.0 in /Users/marc/.pyenv/versions/3.8-dev/lib/python3.8/site-packages (from tensorflow>=2.0.0->turicreate) (2.11.0)\n",
      "Requirement already satisfied: grpcio<2.0,>=1.24.3 in /Users/marc/.pyenv/versions/3.8-dev/lib/python3.8/site-packages (from tensorflow>=2.0.0->turicreate) (1.51.1)\n",
      "Requirement already satisfied: h5py>=2.9.0 in /Users/marc/.pyenv/versions/3.8-dev/lib/python3.8/site-packages (from tensorflow>=2.0.0->turicreate) (3.8.0)\n",
      "Requirement already satisfied: absl-py>=1.0.0 in /Users/marc/.pyenv/versions/3.8-dev/lib/python3.8/site-packages (from tensorflow>=2.0.0->turicreate) (1.4.0)\n",
      "Requirement already satisfied: astunparse>=1.6.0 in /Users/marc/.pyenv/versions/3.8-dev/lib/python3.8/site-packages (from tensorflow>=2.0.0->turicreate) (1.6.3)\n",
      "Requirement already satisfied: wheel<1.0,>=0.23.0 in /Users/marc/.pyenv/versions/3.8-dev/lib/python3.8/site-packages (from astunparse>=1.6.0->tensorflow>=2.0.0->turicreate) (0.38.4)\n",
      "Requirement already satisfied: importlib-metadata in /Users/marc/.pyenv/versions/3.8-dev/lib/python3.8/site-packages (from numba>=0.32->resampy==0.2.1->turicreate) (6.0.0)\n",
      "Requirement already satisfied: llvmlite<0.40,>=0.39.0dev0 in /Users/marc/.pyenv/versions/3.8-dev/lib/python3.8/site-packages (from numba>=0.32->resampy==0.2.1->turicreate) (0.39.1)\n",
      "Requirement already satisfied: google-auth<3,>=1.6.3 in /Users/marc/.pyenv/versions/3.8-dev/lib/python3.8/site-packages (from tensorboard<2.12,>=2.11->tensorflow>=2.0.0->turicreate) (2.16.0)\n",
      "Requirement already satisfied: werkzeug>=1.0.1 in /Users/marc/.pyenv/versions/3.8-dev/lib/python3.8/site-packages (from tensorboard<2.12,>=2.11->tensorflow>=2.0.0->turicreate) (2.2.2)\n",
      "Requirement already satisfied: markdown>=2.6.8 in /Users/marc/.pyenv/versions/3.8-dev/lib/python3.8/site-packages (from tensorboard<2.12,>=2.11->tensorflow>=2.0.0->turicreate) (3.4.1)\n",
      "Requirement already satisfied: google-auth-oauthlib<0.5,>=0.4.1 in /Users/marc/.pyenv/versions/3.8-dev/lib/python3.8/site-packages (from tensorboard<2.12,>=2.11->tensorflow>=2.0.0->turicreate) (0.4.6)\n",
      "Requirement already satisfied: tensorboard-plugin-wit>=1.6.0 in /Users/marc/.pyenv/versions/3.8-dev/lib/python3.8/site-packages (from tensorboard<2.12,>=2.11->tensorflow>=2.0.0->turicreate) (1.8.1)\n",
      "Requirement already satisfied: tensorboard-data-server<0.7.0,>=0.6.0 in /Users/marc/.pyenv/versions/3.8-dev/lib/python3.8/site-packages (from tensorboard<2.12,>=2.11->tensorflow>=2.0.0->turicreate) (0.6.1)\n",
      "Requirement already satisfied: mpmath>=0.19 in /Users/marc/.pyenv/versions/3.8-dev/lib/python3.8/site-packages (from sympy->coremltools==4.0b3->turicreate) (1.2.1)\n",
      "Requirement already satisfied: cachetools<6.0,>=2.0.0 in /Users/marc/.pyenv/versions/3.8-dev/lib/python3.8/site-packages (from google-auth<3,>=1.6.3->tensorboard<2.12,>=2.11->tensorflow>=2.0.0->turicreate) (5.3.0)\n",
      "Requirement already satisfied: pyasn1-modules>=0.2.1 in /Users/marc/.pyenv/versions/3.8-dev/lib/python3.8/site-packages (from google-auth<3,>=1.6.3->tensorboard<2.12,>=2.11->tensorflow>=2.0.0->turicreate) (0.2.8)\n",
      "Requirement already satisfied: rsa<5,>=3.1.4 in /Users/marc/.pyenv/versions/3.8-dev/lib/python3.8/site-packages (from google-auth<3,>=1.6.3->tensorboard<2.12,>=2.11->tensorflow>=2.0.0->turicreate) (4.9)\n",
      "Requirement already satisfied: requests-oauthlib>=0.7.0 in /Users/marc/.pyenv/versions/3.8-dev/lib/python3.8/site-packages (from google-auth-oauthlib<0.5,>=0.4.1->tensorboard<2.12,>=2.11->tensorflow>=2.0.0->turicreate) (1.3.1)\n",
      "Requirement already satisfied: zipp>=0.5 in /Users/marc/.pyenv/versions/3.8-dev/lib/python3.8/site-packages (from importlib-metadata->numba>=0.32->resampy==0.2.1->turicreate) (3.13.0)\n",
      "Requirement already satisfied: MarkupSafe>=2.1.1 in /Users/marc/.pyenv/versions/3.8-dev/lib/python3.8/site-packages (from werkzeug>=1.0.1->tensorboard<2.12,>=2.11->tensorflow>=2.0.0->turicreate) (2.1.2)\n",
      "Requirement already satisfied: pyasn1<0.5.0,>=0.4.6 in /Users/marc/.pyenv/versions/3.8-dev/lib/python3.8/site-packages (from pyasn1-modules>=0.2.1->google-auth<3,>=1.6.3->tensorboard<2.12,>=2.11->tensorflow>=2.0.0->turicreate) (0.4.8)\n",
      "Requirement already satisfied: oauthlib>=3.0.0 in /Users/marc/.pyenv/versions/3.8-dev/lib/python3.8/site-packages (from requests-oauthlib>=0.7.0->google-auth-oauthlib<0.5,>=0.4.1->tensorboard<2.12,>=2.11->tensorflow>=2.0.0->turicreate) (3.2.2)\n",
      "\u001b[33mWARNING: You are using pip version 22.0.4; however, version 23.0 is available.\n",
      "You should consider upgrading via the '/Users/marc/.pyenv/versions/3.8-dev/bin/python3.8 -m pip install --upgrade pip' command.\u001b[0m\u001b[33m\n",
      "\u001b[0m"
     ]
    }
   ],
   "source": [
    "!pip3 install turicreate"
   ]
  },
  {
   "cell_type": "code",
   "execution_count": 8,
   "metadata": {},
   "outputs": [],
   "source": [
    "import turicreate as tc"
   ]
  },
  {
   "cell_type": "code",
   "execution_count": null,
   "metadata": {},
   "outputs": [],
   "source": [
    "# Load images (Note:'Not a JPEG file' errors are warnings, meaning those files will be skipped)\n",
    "train_data = tc.image_analysis.load_images('big_dataset/train/', with_path=True)\n",
    "test_data = tc.image_analysis.load_images('big_dataset/test/', with_path=True)\n",
    "\n",
    "# From the path-name, create a label column using the parent directory name\n",
    "train_data['label'] = train_data['path'].apply(\n",
    "    lambda path: path.split('/')[-2])\n",
    "test_data['label'] = test_data['path'].apply(\n",
    "    lambda path: path.split('/')[-2])\n",
    "\n",
    "# # Save the data for future use\n",
    "train_data.save('train.sframe')\n",
    "test_data.save('test.sframe')\n"
   ]
  },
  {
   "cell_type": "code",
   "execution_count": 10,
   "metadata": {},
   "outputs": [],
   "source": [
    "# Load the data\n",
    "train_data = tc.SFrame('train.sframe')\n",
    "test_data = tc.SFrame('test.sframe')"
   ]
  },
  {
   "cell_type": "code",
   "execution_count": 11,
   "metadata": {},
   "outputs": [
    {
     "data": {
      "text/html": [
       "<pre>Downloading base mlmodel</pre>"
      ],
      "text/plain": [
       "Downloading base mlmodel"
      ]
     },
     "metadata": {},
     "output_type": "display_data"
    },
    {
     "data": {
      "text/html": [
       "<pre>Downloading https://docs-assets.developer.apple.com/turicreate/models/resnet-50-TuriCreate-6.0.mlmodel to /var/folders/z7/n5j12mtn1_71fgflrqr2vj_80000gn/T/model_cache/resnet-50.mlmodel</pre>"
      ],
      "text/plain": [
       "Downloading https://docs-assets.developer.apple.com/turicreate/models/resnet-50-TuriCreate-6.0.mlmodel to /var/folders/z7/n5j12mtn1_71fgflrqr2vj_80000gn/T/model_cache/resnet-50.mlmodel"
      ]
     },
     "metadata": {},
     "output_type": "display_data"
    },
    {
     "data": {
      "text/html": [
       "<pre>Using GPU (Intel(R) Iris(TM) Plus Graphics) to extract features.</pre>"
      ],
      "text/plain": [
       "Using GPU (Intel(R) Iris(TM) Plus Graphics) to extract features."
      ]
     },
     "metadata": {},
     "output_type": "display_data"
    },
    {
     "data": {
      "text/html": [
       "<pre>Analyzing and extracting image features.</pre>"
      ],
      "text/plain": [
       "Analyzing and extracting image features."
      ]
     },
     "metadata": {},
     "output_type": "display_data"
    },
    {
     "data": {
      "text/html": [
       "<pre>+------------------+--------------+------------------+</pre>"
      ],
      "text/plain": [
       "+------------------+--------------+------------------+"
      ]
     },
     "metadata": {},
     "output_type": "display_data"
    },
    {
     "data": {
      "text/html": [
       "<pre>| Images Processed | Elapsed Time | Percent Complete |</pre>"
      ],
      "text/plain": [
       "| Images Processed | Elapsed Time | Percent Complete |"
      ]
     },
     "metadata": {},
     "output_type": "display_data"
    },
    {
     "data": {
      "text/html": [
       "<pre>+------------------+--------------+------------------+</pre>"
      ],
      "text/plain": [
       "+------------------+--------------+------------------+"
      ]
     },
     "metadata": {},
     "output_type": "display_data"
    },
    {
     "data": {
      "text/html": [
       "<pre>| 64               | 1.92s        | 0%               |</pre>"
      ],
      "text/plain": [
       "| 64               | 1.92s        | 0%               |"
      ]
     },
     "metadata": {},
     "output_type": "display_data"
    },
    {
     "data": {
      "text/html": [
       "<pre>| 128              | 3.49s        | 0%               |</pre>"
      ],
      "text/plain": [
       "| 128              | 3.49s        | 0%               |"
      ]
     },
     "metadata": {},
     "output_type": "display_data"
    },
    {
     "data": {
      "text/html": [
       "<pre>| 192              | 5.05s        | 0%               |</pre>"
      ],
      "text/plain": [
       "| 192              | 5.05s        | 0%               |"
      ]
     },
     "metadata": {},
     "output_type": "display_data"
    },
    {
     "data": {
      "text/html": [
       "<pre>| 256              | 6.61s        | 0.25%            |</pre>"
      ],
      "text/plain": [
       "| 256              | 6.61s        | 0.25%            |"
      ]
     },
     "metadata": {},
     "output_type": "display_data"
    },
    {
     "data": {
      "text/html": [
       "<pre>| 320              | 8.19s        | 0.25%            |</pre>"
      ],
      "text/plain": [
       "| 320              | 8.19s        | 0.25%            |"
      ]
     },
     "metadata": {},
     "output_type": "display_data"
    },
    {
     "data": {
      "text/html": [
       "<pre>| 640              | 16.38s       | 0.75%            |</pre>"
      ],
      "text/plain": [
       "| 640              | 16.38s       | 0.75%            |"
      ]
     },
     "metadata": {},
     "output_type": "display_data"
    },
    {
     "data": {
      "text/html": [
       "<pre>| 960              | 24.34s       | 1%               |</pre>"
      ],
      "text/plain": [
       "| 960              | 24.34s       | 1%               |"
      ]
     },
     "metadata": {},
     "output_type": "display_data"
    },
    {
     "data": {
      "text/html": [
       "<pre>| 1280             | 32.61s       | 1.5%             |</pre>"
      ],
      "text/plain": [
       "| 1280             | 32.61s       | 1.5%             |"
      ]
     },
     "metadata": {},
     "output_type": "display_data"
    },
    {
     "data": {
      "text/html": [
       "<pre>| 1600             | 40.36s       | 1.75%            |</pre>"
      ],
      "text/plain": [
       "| 1600             | 40.36s       | 1.75%            |"
      ]
     },
     "metadata": {},
     "output_type": "display_data"
    },
    {
     "data": {
      "text/html": [
       "<pre>| 1920             | 48.54s       | 2.25%            |</pre>"
      ],
      "text/plain": [
       "| 1920             | 48.54s       | 2.25%            |"
      ]
     },
     "metadata": {},
     "output_type": "display_data"
    },
    {
     "data": {
      "text/html": [
       "<pre>| 2240             | 56.74s       | 2.5%             |</pre>"
      ],
      "text/plain": [
       "| 2240             | 56.74s       | 2.5%             |"
      ]
     },
     "metadata": {},
     "output_type": "display_data"
    },
    {
     "data": {
      "text/html": [
       "<pre>| 2560             | 1m 4s        | 3%               |</pre>"
      ],
      "text/plain": [
       "| 2560             | 1m 4s        | 3%               |"
      ]
     },
     "metadata": {},
     "output_type": "display_data"
    },
    {
     "data": {
      "text/html": [
       "<pre>| 2880             | 1m 12s       | 3.5%             |</pre>"
      ],
      "text/plain": [
       "| 2880             | 1m 12s       | 3.5%             |"
      ]
     },
     "metadata": {},
     "output_type": "display_data"
    },
    {
     "data": {
      "text/html": [
       "<pre>| 3200             | 1m 20s       | 3.75%            |</pre>"
      ],
      "text/plain": [
       "| 3200             | 1m 20s       | 3.75%            |"
      ]
     },
     "metadata": {},
     "output_type": "display_data"
    },
    {
     "data": {
      "text/html": [
       "<pre>| 3520             | 1m 27s       | 4.25%            |</pre>"
      ],
      "text/plain": [
       "| 3520             | 1m 27s       | 4.25%            |"
      ]
     },
     "metadata": {},
     "output_type": "display_data"
    },
    {
     "data": {
      "text/html": [
       "<pre>| 3840             | 1m 35s       | 4.5%             |</pre>"
      ],
      "text/plain": [
       "| 3840             | 1m 35s       | 4.5%             |"
      ]
     },
     "metadata": {},
     "output_type": "display_data"
    },
    {
     "data": {
      "text/html": [
       "<pre>| 4160             | 1m 43s       | 5%               |</pre>"
      ],
      "text/plain": [
       "| 4160             | 1m 43s       | 5%               |"
      ]
     },
     "metadata": {},
     "output_type": "display_data"
    },
    {
     "data": {
      "text/html": [
       "<pre>| 4480             | 1m 51s       | 5.25%            |</pre>"
      ],
      "text/plain": [
       "| 4480             | 1m 51s       | 5.25%            |"
      ]
     },
     "metadata": {},
     "output_type": "display_data"
    },
    {
     "data": {
      "text/html": [
       "<pre>| 4800             | 1m 59s       | 5.75%            |</pre>"
      ],
      "text/plain": [
       "| 4800             | 1m 59s       | 5.75%            |"
      ]
     },
     "metadata": {},
     "output_type": "display_data"
    },
    {
     "data": {
      "text/html": [
       "<pre>| 5120             | 2m 6s        | 6.25%            |</pre>"
      ],
      "text/plain": [
       "| 5120             | 2m 6s        | 6.25%            |"
      ]
     },
     "metadata": {},
     "output_type": "display_data"
    },
    {
     "data": {
      "text/html": [
       "<pre>| 5440             | 2m 14s       | 6.5%             |</pre>"
      ],
      "text/plain": [
       "| 5440             | 2m 14s       | 6.5%             |"
      ]
     },
     "metadata": {},
     "output_type": "display_data"
    },
    {
     "data": {
      "text/html": [
       "<pre>| 5760             | 2m 22s       | 7%               |</pre>"
      ],
      "text/plain": [
       "| 5760             | 2m 22s       | 7%               |"
      ]
     },
     "metadata": {},
     "output_type": "display_data"
    },
    {
     "data": {
      "text/html": [
       "<pre>| 6080             | 2m 30s       | 7.25%            |</pre>"
      ],
      "text/plain": [
       "| 6080             | 2m 30s       | 7.25%            |"
      ]
     },
     "metadata": {},
     "output_type": "display_data"
    },
    {
     "data": {
      "text/html": [
       "<pre>| 6400             | 2m 38s       | 7.75%            |</pre>"
      ],
      "text/plain": [
       "| 6400             | 2m 38s       | 7.75%            |"
      ]
     },
     "metadata": {},
     "output_type": "display_data"
    },
    {
     "data": {
      "text/html": [
       "<pre>| 6720             | 2m 46s       | 8%               |</pre>"
      ],
      "text/plain": [
       "| 6720             | 2m 46s       | 8%               |"
      ]
     },
     "metadata": {},
     "output_type": "display_data"
    },
    {
     "data": {
      "text/html": [
       "<pre>| 7040             | 2m 54s       | 8.5%             |</pre>"
      ],
      "text/plain": [
       "| 7040             | 2m 54s       | 8.5%             |"
      ]
     },
     "metadata": {},
     "output_type": "display_data"
    },
    {
     "data": {
      "text/html": [
       "<pre>| 7360             | 3m 2s        | 9%               |</pre>"
      ],
      "text/plain": [
       "| 7360             | 3m 2s        | 9%               |"
      ]
     },
     "metadata": {},
     "output_type": "display_data"
    },
    {
     "data": {
      "text/html": [
       "<pre>| 7680             | 3m 10s       | 9.25%            |</pre>"
      ],
      "text/plain": [
       "| 7680             | 3m 10s       | 9.25%            |"
      ]
     },
     "metadata": {},
     "output_type": "display_data"
    },
    {
     "data": {
      "text/html": [
       "<pre>| 8000             | 3m 18s       | 9.75%            |</pre>"
      ],
      "text/plain": [
       "| 8000             | 3m 18s       | 9.75%            |"
      ]
     },
     "metadata": {},
     "output_type": "display_data"
    },
    {
     "data": {
      "text/html": [
       "<pre>| 8320             | 3m 26s       | 10%              |</pre>"
      ],
      "text/plain": [
       "| 8320             | 3m 26s       | 10%              |"
      ]
     },
     "metadata": {},
     "output_type": "display_data"
    },
    {
     "data": {
      "text/html": [
       "<pre>| 8640             | 3m 34s       | 10.5%            |</pre>"
      ],
      "text/plain": [
       "| 8640             | 3m 34s       | 10.5%            |"
      ]
     },
     "metadata": {},
     "output_type": "display_data"
    },
    {
     "data": {
      "text/html": [
       "<pre>| 8960             | 3m 41s       | 10.75%           |</pre>"
      ],
      "text/plain": [
       "| 8960             | 3m 41s       | 10.75%           |"
      ]
     },
     "metadata": {},
     "output_type": "display_data"
    },
    {
     "data": {
      "text/html": [
       "<pre>| 9280             | 3m 49s       | 11.25%           |</pre>"
      ],
      "text/plain": [
       "| 9280             | 3m 49s       | 11.25%           |"
      ]
     },
     "metadata": {},
     "output_type": "display_data"
    },
    {
     "data": {
      "text/html": [
       "<pre>| 9600             | 3m 57s       | 11.5%            |</pre>"
      ],
      "text/plain": [
       "| 9600             | 3m 57s       | 11.5%            |"
      ]
     },
     "metadata": {},
     "output_type": "display_data"
    },
    {
     "data": {
      "text/html": [
       "<pre>| 9920             | 4m 5s        | 12%              |</pre>"
      ],
      "text/plain": [
       "| 9920             | 4m 5s        | 12%              |"
      ]
     },
     "metadata": {},
     "output_type": "display_data"
    },
    {
     "data": {
      "text/html": [
       "<pre>| 10240            | 4m 12s       | 12.5%            |</pre>"
      ],
      "text/plain": [
       "| 10240            | 4m 12s       | 12.5%            |"
      ]
     },
     "metadata": {},
     "output_type": "display_data"
    },
    {
     "data": {
      "text/html": [
       "<pre>| 10560            | 4m 20s       | 12.75%           |</pre>"
      ],
      "text/plain": [
       "| 10560            | 4m 20s       | 12.75%           |"
      ]
     },
     "metadata": {},
     "output_type": "display_data"
    },
    {
     "data": {
      "text/html": [
       "<pre>| 10880            | 4m 28s       | 13.25%           |</pre>"
      ],
      "text/plain": [
       "| 10880            | 4m 28s       | 13.25%           |"
      ]
     },
     "metadata": {},
     "output_type": "display_data"
    },
    {
     "data": {
      "text/html": [
       "<pre>| 11200            | 4m 36s       | 13.5%            |</pre>"
      ],
      "text/plain": [
       "| 11200            | 4m 36s       | 13.5%            |"
      ]
     },
     "metadata": {},
     "output_type": "display_data"
    },
    {
     "data": {
      "text/html": [
       "<pre>| 11520            | 4m 44s       | 14%              |</pre>"
      ],
      "text/plain": [
       "| 11520            | 4m 44s       | 14%              |"
      ]
     },
     "metadata": {},
     "output_type": "display_data"
    },
    {
     "data": {
      "text/html": [
       "<pre>| 11840            | 4m 51s       | 14.25%           |</pre>"
      ],
      "text/plain": [
       "| 11840            | 4m 51s       | 14.25%           |"
      ]
     },
     "metadata": {},
     "output_type": "display_data"
    },
    {
     "data": {
      "text/html": [
       "<pre>| 12160            | 4m 59s       | 14.75%           |</pre>"
      ],
      "text/plain": [
       "| 12160            | 4m 59s       | 14.75%           |"
      ]
     },
     "metadata": {},
     "output_type": "display_data"
    },
    {
     "data": {
      "text/html": [
       "<pre>| 12480            | 5m 7s        | 15.25%           |</pre>"
      ],
      "text/plain": [
       "| 12480            | 5m 7s        | 15.25%           |"
      ]
     },
     "metadata": {},
     "output_type": "display_data"
    },
    {
     "data": {
      "text/html": [
       "<pre>| 12800            | 5m 15s       | 15.5%            |</pre>"
      ],
      "text/plain": [
       "| 12800            | 5m 15s       | 15.5%            |"
      ]
     },
     "metadata": {},
     "output_type": "display_data"
    },
    {
     "data": {
      "text/html": [
       "<pre>| 13120            | 5m 23s       | 16%              |</pre>"
      ],
      "text/plain": [
       "| 13120            | 5m 23s       | 16%              |"
      ]
     },
     "metadata": {},
     "output_type": "display_data"
    },
    {
     "data": {
      "text/html": [
       "<pre>| 13440            | 5m 30s       | 16.25%           |</pre>"
      ],
      "text/plain": [
       "| 13440            | 5m 30s       | 16.25%           |"
      ]
     },
     "metadata": {},
     "output_type": "display_data"
    },
    {
     "data": {
      "text/html": [
       "<pre>| 13760            | 5m 38s       | 16.75%           |</pre>"
      ],
      "text/plain": [
       "| 13760            | 5m 38s       | 16.75%           |"
      ]
     },
     "metadata": {},
     "output_type": "display_data"
    },
    {
     "data": {
      "text/html": [
       "<pre>| 14080            | 5m 46s       | 17%              |</pre>"
      ],
      "text/plain": [
       "| 14080            | 5m 46s       | 17%              |"
      ]
     },
     "metadata": {},
     "output_type": "display_data"
    },
    {
     "data": {
      "text/html": [
       "<pre>| 14400            | 5m 54s       | 17.5%            |</pre>"
      ],
      "text/plain": [
       "| 14400            | 5m 54s       | 17.5%            |"
      ]
     },
     "metadata": {},
     "output_type": "display_data"
    },
    {
     "data": {
      "text/html": [
       "<pre>| 14720            | 6m 2s        | 18%              |</pre>"
      ],
      "text/plain": [
       "| 14720            | 6m 2s        | 18%              |"
      ]
     },
     "metadata": {},
     "output_type": "display_data"
    },
    {
     "data": {
      "text/html": [
       "<pre>| 15040            | 6m 9s        | 18.25%           |</pre>"
      ],
      "text/plain": [
       "| 15040            | 6m 9s        | 18.25%           |"
      ]
     },
     "metadata": {},
     "output_type": "display_data"
    },
    {
     "data": {
      "text/html": [
       "<pre>| 15360            | 6m 17s       | 18.75%           |</pre>"
      ],
      "text/plain": [
       "| 15360            | 6m 17s       | 18.75%           |"
      ]
     },
     "metadata": {},
     "output_type": "display_data"
    },
    {
     "data": {
      "text/html": [
       "<pre>| 15680            | 6m 25s       | 19%              |</pre>"
      ],
      "text/plain": [
       "| 15680            | 6m 25s       | 19%              |"
      ]
     },
     "metadata": {},
     "output_type": "display_data"
    },
    {
     "data": {
      "text/html": [
       "<pre>| 16000            | 6m 33s       | 19.5%            |</pre>"
      ],
      "text/plain": [
       "| 16000            | 6m 33s       | 19.5%            |"
      ]
     },
     "metadata": {},
     "output_type": "display_data"
    },
    {
     "data": {
      "text/html": [
       "<pre>| 16320            | 6m 41s       | 19.75%           |</pre>"
      ],
      "text/plain": [
       "| 16320            | 6m 41s       | 19.75%           |"
      ]
     },
     "metadata": {},
     "output_type": "display_data"
    },
    {
     "data": {
      "text/html": [
       "<pre>| 16640            | 6m 48s       | 20.25%           |</pre>"
      ],
      "text/plain": [
       "| 16640            | 6m 48s       | 20.25%           |"
      ]
     },
     "metadata": {},
     "output_type": "display_data"
    },
    {
     "data": {
      "text/html": [
       "<pre>| 16960            | 6m 56s       | 20.75%           |</pre>"
      ],
      "text/plain": [
       "| 16960            | 6m 56s       | 20.75%           |"
      ]
     },
     "metadata": {},
     "output_type": "display_data"
    },
    {
     "data": {
      "text/html": [
       "<pre>| 17280            | 7m 4s        | 21%              |</pre>"
      ],
      "text/plain": [
       "| 17280            | 7m 4s        | 21%              |"
      ]
     },
     "metadata": {},
     "output_type": "display_data"
    },
    {
     "data": {
      "text/html": [
       "<pre>| 17600            | 7m 12s       | 21.5%            |</pre>"
      ],
      "text/plain": [
       "| 17600            | 7m 12s       | 21.5%            |"
      ]
     },
     "metadata": {},
     "output_type": "display_data"
    },
    {
     "data": {
      "text/html": [
       "<pre>| 17920            | 7m 20s       | 21.75%           |</pre>"
      ],
      "text/plain": [
       "| 17920            | 7m 20s       | 21.75%           |"
      ]
     },
     "metadata": {},
     "output_type": "display_data"
    },
    {
     "data": {
      "text/html": [
       "<pre>| 18240            | 7m 28s       | 22.25%           |</pre>"
      ],
      "text/plain": [
       "| 18240            | 7m 28s       | 22.25%           |"
      ]
     },
     "metadata": {},
     "output_type": "display_data"
    },
    {
     "data": {
      "text/html": [
       "<pre>| 18560            | 7m 36s       | 22.5%            |</pre>"
      ],
      "text/plain": [
       "| 18560            | 7m 36s       | 22.5%            |"
      ]
     },
     "metadata": {},
     "output_type": "display_data"
    },
    {
     "data": {
      "text/html": [
       "<pre>| 18880            | 7m 44s       | 23%              |</pre>"
      ],
      "text/plain": [
       "| 18880            | 7m 44s       | 23%              |"
      ]
     },
     "metadata": {},
     "output_type": "display_data"
    },
    {
     "data": {
      "text/html": [
       "<pre>| 19200            | 7m 52s       | 23.25%           |</pre>"
      ],
      "text/plain": [
       "| 19200            | 7m 52s       | 23.25%           |"
      ]
     },
     "metadata": {},
     "output_type": "display_data"
    },
    {
     "data": {
      "text/html": [
       "<pre>| 19520            | 8m 1s        | 23.75%           |</pre>"
      ],
      "text/plain": [
       "| 19520            | 8m 1s        | 23.75%           |"
      ]
     },
     "metadata": {},
     "output_type": "display_data"
    },
    {
     "data": {
      "text/html": [
       "<pre>| 19840            | 8m 9s        | 24.25%           |</pre>"
      ],
      "text/plain": [
       "| 19840            | 8m 9s        | 24.25%           |"
      ]
     },
     "metadata": {},
     "output_type": "display_data"
    },
    {
     "data": {
      "text/html": [
       "<pre>| 20160            | 8m 18s       | 24.5%            |</pre>"
      ],
      "text/plain": [
       "| 20160            | 8m 18s       | 24.5%            |"
      ]
     },
     "metadata": {},
     "output_type": "display_data"
    },
    {
     "data": {
      "text/html": [
       "<pre>| 20480            | 8m 26s       | 25%              |</pre>"
      ],
      "text/plain": [
       "| 20480            | 8m 26s       | 25%              |"
      ]
     },
     "metadata": {},
     "output_type": "display_data"
    },
    {
     "data": {
      "text/html": [
       "<pre>| 20800            | 8m 34s       | 25.25%           |</pre>"
      ],
      "text/plain": [
       "| 20800            | 8m 34s       | 25.25%           |"
      ]
     },
     "metadata": {},
     "output_type": "display_data"
    },
    {
     "data": {
      "text/html": [
       "<pre>| 21120            | 8m 42s       | 25.75%           |</pre>"
      ],
      "text/plain": [
       "| 21120            | 8m 42s       | 25.75%           |"
      ]
     },
     "metadata": {},
     "output_type": "display_data"
    },
    {
     "data": {
      "text/html": [
       "<pre>| 21440            | 8m 50s       | 26%              |</pre>"
      ],
      "text/plain": [
       "| 21440            | 8m 50s       | 26%              |"
      ]
     },
     "metadata": {},
     "output_type": "display_data"
    },
    {
     "data": {
      "text/html": [
       "<pre>| 21760            | 8m 58s       | 26.5%            |</pre>"
      ],
      "text/plain": [
       "| 21760            | 8m 58s       | 26.5%            |"
      ]
     },
     "metadata": {},
     "output_type": "display_data"
    },
    {
     "data": {
      "text/html": [
       "<pre>| 22080            | 9m 6s        | 27%              |</pre>"
      ],
      "text/plain": [
       "| 22080            | 9m 6s        | 27%              |"
      ]
     },
     "metadata": {},
     "output_type": "display_data"
    },
    {
     "data": {
      "text/html": [
       "<pre>| 22400            | 9m 14s       | 27.25%           |</pre>"
      ],
      "text/plain": [
       "| 22400            | 9m 14s       | 27.25%           |"
      ]
     },
     "metadata": {},
     "output_type": "display_data"
    },
    {
     "data": {
      "text/html": [
       "<pre>| 22720            | 9m 23s       | 27.75%           |</pre>"
      ],
      "text/plain": [
       "| 22720            | 9m 23s       | 27.75%           |"
      ]
     },
     "metadata": {},
     "output_type": "display_data"
    },
    {
     "data": {
      "text/html": [
       "<pre>| 23040            | 9m 31s       | 28%              |</pre>"
      ],
      "text/plain": [
       "| 23040            | 9m 31s       | 28%              |"
      ]
     },
     "metadata": {},
     "output_type": "display_data"
    },
    {
     "data": {
      "text/html": [
       "<pre>| 23360            | 9m 39s       | 28.5%            |</pre>"
      ],
      "text/plain": [
       "| 23360            | 9m 39s       | 28.5%            |"
      ]
     },
     "metadata": {},
     "output_type": "display_data"
    },
    {
     "data": {
      "text/html": [
       "<pre>| 23680            | 9m 48s       | 28.75%           |</pre>"
      ],
      "text/plain": [
       "| 23680            | 9m 48s       | 28.75%           |"
      ]
     },
     "metadata": {},
     "output_type": "display_data"
    },
    {
     "data": {
      "text/html": [
       "<pre>| 24000            | 9m 56s       | 29.25%           |</pre>"
      ],
      "text/plain": [
       "| 24000            | 9m 56s       | 29.25%           |"
      ]
     },
     "metadata": {},
     "output_type": "display_data"
    },
    {
     "data": {
      "text/html": [
       "<pre>| 24320            | 10m 4s       | 29.75%           |</pre>"
      ],
      "text/plain": [
       "| 24320            | 10m 4s       | 29.75%           |"
      ]
     },
     "metadata": {},
     "output_type": "display_data"
    },
    {
     "data": {
      "text/html": [
       "<pre>| 24640            | 10m 11s      | 30%              |</pre>"
      ],
      "text/plain": [
       "| 24640            | 10m 11s      | 30%              |"
      ]
     },
     "metadata": {},
     "output_type": "display_data"
    },
    {
     "data": {
      "text/html": [
       "<pre>| 24960            | 10m 19s      | 30.5%            |</pre>"
      ],
      "text/plain": [
       "| 24960            | 10m 19s      | 30.5%            |"
      ]
     },
     "metadata": {},
     "output_type": "display_data"
    },
    {
     "data": {
      "text/html": [
       "<pre>| 25280            | 10m 27s      | 30.75%           |</pre>"
      ],
      "text/plain": [
       "| 25280            | 10m 27s      | 30.75%           |"
      ]
     },
     "metadata": {},
     "output_type": "display_data"
    },
    {
     "data": {
      "text/html": [
       "<pre>| 25600            | 10m 35s      | 31.25%           |</pre>"
      ],
      "text/plain": [
       "| 25600            | 10m 35s      | 31.25%           |"
      ]
     },
     "metadata": {},
     "output_type": "display_data"
    },
    {
     "data": {
      "text/html": [
       "<pre>| 25920            | 10m 43s      | 31.5%            |</pre>"
      ],
      "text/plain": [
       "| 25920            | 10m 43s      | 31.5%            |"
      ]
     },
     "metadata": {},
     "output_type": "display_data"
    },
    {
     "data": {
      "text/html": [
       "<pre>| 26240            | 10m 51s      | 32%              |</pre>"
      ],
      "text/plain": [
       "| 26240            | 10m 51s      | 32%              |"
      ]
     },
     "metadata": {},
     "output_type": "display_data"
    },
    {
     "data": {
      "text/html": [
       "<pre>| 26560            | 10m 58s      | 32.25%           |</pre>"
      ],
      "text/plain": [
       "| 26560            | 10m 58s      | 32.25%           |"
      ]
     },
     "metadata": {},
     "output_type": "display_data"
    },
    {
     "data": {
      "text/html": [
       "<pre>| 26880            | 11m 6s       | 32.75%           |</pre>"
      ],
      "text/plain": [
       "| 26880            | 11m 6s       | 32.75%           |"
      ]
     },
     "metadata": {},
     "output_type": "display_data"
    },
    {
     "data": {
      "text/html": [
       "<pre>| 27200            | 11m 14s      | 33.25%           |</pre>"
      ],
      "text/plain": [
       "| 27200            | 11m 14s      | 33.25%           |"
      ]
     },
     "metadata": {},
     "output_type": "display_data"
    },
    {
     "data": {
      "text/html": [
       "<pre>| 27520            | 11m 22s      | 33.5%            |</pre>"
      ],
      "text/plain": [
       "| 27520            | 11m 22s      | 33.5%            |"
      ]
     },
     "metadata": {},
     "output_type": "display_data"
    },
    {
     "data": {
      "text/html": [
       "<pre>| 27840            | 11m 30s      | 34%              |</pre>"
      ],
      "text/plain": [
       "| 27840            | 11m 30s      | 34%              |"
      ]
     },
     "metadata": {},
     "output_type": "display_data"
    },
    {
     "data": {
      "text/html": [
       "<pre>| 28160            | 11m 38s      | 34.25%           |</pre>"
      ],
      "text/plain": [
       "| 28160            | 11m 38s      | 34.25%           |"
      ]
     },
     "metadata": {},
     "output_type": "display_data"
    },
    {
     "data": {
      "text/html": [
       "<pre>| 28480            | 11m 46s      | 34.75%           |</pre>"
      ],
      "text/plain": [
       "| 28480            | 11m 46s      | 34.75%           |"
      ]
     },
     "metadata": {},
     "output_type": "display_data"
    },
    {
     "data": {
      "text/html": [
       "<pre>| 28800            | 11m 54s      | 35%              |</pre>"
      ],
      "text/plain": [
       "| 28800            | 11m 54s      | 35%              |"
      ]
     },
     "metadata": {},
     "output_type": "display_data"
    },
    {
     "data": {
      "text/html": [
       "<pre>| 29120            | 12m 1s       | 35.5%            |</pre>"
      ],
      "text/plain": [
       "| 29120            | 12m 1s       | 35.5%            |"
      ]
     },
     "metadata": {},
     "output_type": "display_data"
    },
    {
     "data": {
      "text/html": [
       "<pre>| 29440            | 12m 9s       | 36%              |</pre>"
      ],
      "text/plain": [
       "| 29440            | 12m 9s       | 36%              |"
      ]
     },
     "metadata": {},
     "output_type": "display_data"
    },
    {
     "data": {
      "text/html": [
       "<pre>| 29760            | 12m 17s      | 36.25%           |</pre>"
      ],
      "text/plain": [
       "| 29760            | 12m 17s      | 36.25%           |"
      ]
     },
     "metadata": {},
     "output_type": "display_data"
    },
    {
     "data": {
      "text/html": [
       "<pre>| 30080            | 12m 25s      | 36.75%           |</pre>"
      ],
      "text/plain": [
       "| 30080            | 12m 25s      | 36.75%           |"
      ]
     },
     "metadata": {},
     "output_type": "display_data"
    },
    {
     "data": {
      "text/html": [
       "<pre>| 30400            | 12m 33s      | 37%              |</pre>"
      ],
      "text/plain": [
       "| 30400            | 12m 33s      | 37%              |"
      ]
     },
     "metadata": {},
     "output_type": "display_data"
    },
    {
     "data": {
      "text/html": [
       "<pre>| 30720            | 12m 40s      | 37.5%            |</pre>"
      ],
      "text/plain": [
       "| 30720            | 12m 40s      | 37.5%            |"
      ]
     },
     "metadata": {},
     "output_type": "display_data"
    },
    {
     "data": {
      "text/html": [
       "<pre>| 31040            | 12m 48s      | 37.75%           |</pre>"
      ],
      "text/plain": [
       "| 31040            | 12m 48s      | 37.75%           |"
      ]
     },
     "metadata": {},
     "output_type": "display_data"
    },
    {
     "data": {
      "text/html": [
       "<pre>| 31360            | 12m 56s      | 38.25%           |</pre>"
      ],
      "text/plain": [
       "| 31360            | 12m 56s      | 38.25%           |"
      ]
     },
     "metadata": {},
     "output_type": "display_data"
    },
    {
     "data": {
      "text/html": [
       "<pre>| 31680            | 13m 4s       | 38.75%           |</pre>"
      ],
      "text/plain": [
       "| 31680            | 13m 4s       | 38.75%           |"
      ]
     },
     "metadata": {},
     "output_type": "display_data"
    },
    {
     "data": {
      "text/html": [
       "<pre>| 32000            | 13m 12s      | 39%              |</pre>"
      ],
      "text/plain": [
       "| 32000            | 13m 12s      | 39%              |"
      ]
     },
     "metadata": {},
     "output_type": "display_data"
    },
    {
     "data": {
      "text/html": [
       "<pre>| 32320            | 13m 19s      | 39.5%            |</pre>"
      ],
      "text/plain": [
       "| 32320            | 13m 19s      | 39.5%            |"
      ]
     },
     "metadata": {},
     "output_type": "display_data"
    },
    {
     "data": {
      "text/html": [
       "<pre>| 32640            | 13m 27s      | 39.75%           |</pre>"
      ],
      "text/plain": [
       "| 32640            | 13m 27s      | 39.75%           |"
      ]
     },
     "metadata": {},
     "output_type": "display_data"
    },
    {
     "data": {
      "text/html": [
       "<pre>| 32960            | 13m 35s      | 40.25%           |</pre>"
      ],
      "text/plain": [
       "| 32960            | 13m 35s      | 40.25%           |"
      ]
     },
     "metadata": {},
     "output_type": "display_data"
    },
    {
     "data": {
      "text/html": [
       "<pre>| 33280            | 13m 43s      | 40.5%            |</pre>"
      ],
      "text/plain": [
       "| 33280            | 13m 43s      | 40.5%            |"
      ]
     },
     "metadata": {},
     "output_type": "display_data"
    },
    {
     "data": {
      "text/html": [
       "<pre>| 33600            | 13m 51s      | 41%              |</pre>"
      ],
      "text/plain": [
       "| 33600            | 13m 51s      | 41%              |"
      ]
     },
     "metadata": {},
     "output_type": "display_data"
    },
    {
     "data": {
      "text/html": [
       "<pre>| 33920            | 13m 58s      | 41.5%            |</pre>"
      ],
      "text/plain": [
       "| 33920            | 13m 58s      | 41.5%            |"
      ]
     },
     "metadata": {},
     "output_type": "display_data"
    },
    {
     "data": {
      "text/html": [
       "<pre>| 34240            | 14m 6s       | 41.75%           |</pre>"
      ],
      "text/plain": [
       "| 34240            | 14m 6s       | 41.75%           |"
      ]
     },
     "metadata": {},
     "output_type": "display_data"
    },
    {
     "data": {
      "text/html": [
       "<pre>| 34560            | 14m 14s      | 42.25%           |</pre>"
      ],
      "text/plain": [
       "| 34560            | 14m 14s      | 42.25%           |"
      ]
     },
     "metadata": {},
     "output_type": "display_data"
    },
    {
     "data": {
      "text/html": [
       "<pre>| 34880            | 14m 22s      | 42.5%            |</pre>"
      ],
      "text/plain": [
       "| 34880            | 14m 22s      | 42.5%            |"
      ]
     },
     "metadata": {},
     "output_type": "display_data"
    },
    {
     "data": {
      "text/html": [
       "<pre>| 35200            | 14m 29s      | 43%              |</pre>"
      ],
      "text/plain": [
       "| 35200            | 14m 29s      | 43%              |"
      ]
     },
     "metadata": {},
     "output_type": "display_data"
    },
    {
     "data": {
      "text/html": [
       "<pre>| 35520            | 14m 37s      | 43.25%           |</pre>"
      ],
      "text/plain": [
       "| 35520            | 14m 37s      | 43.25%           |"
      ]
     },
     "metadata": {},
     "output_type": "display_data"
    },
    {
     "data": {
      "text/html": [
       "<pre>| 35840            | 14m 45s      | 43.75%           |</pre>"
      ],
      "text/plain": [
       "| 35840            | 14m 45s      | 43.75%           |"
      ]
     },
     "metadata": {},
     "output_type": "display_data"
    },
    {
     "data": {
      "text/html": [
       "<pre>| 36160            | 14m 53s      | 44%              |</pre>"
      ],
      "text/plain": [
       "| 36160            | 14m 53s      | 44%              |"
      ]
     },
     "metadata": {},
     "output_type": "display_data"
    },
    {
     "data": {
      "text/html": [
       "<pre>| 36480            | 15m 1s       | 44.5%            |</pre>"
      ],
      "text/plain": [
       "| 36480            | 15m 1s       | 44.5%            |"
      ]
     },
     "metadata": {},
     "output_type": "display_data"
    },
    {
     "data": {
      "text/html": [
       "<pre>| 36800            | 15m 8s       | 45%              |</pre>"
      ],
      "text/plain": [
       "| 36800            | 15m 8s       | 45%              |"
      ]
     },
     "metadata": {},
     "output_type": "display_data"
    },
    {
     "data": {
      "text/html": [
       "<pre>| 37120            | 15m 16s      | 45.25%           |</pre>"
      ],
      "text/plain": [
       "| 37120            | 15m 16s      | 45.25%           |"
      ]
     },
     "metadata": {},
     "output_type": "display_data"
    },
    {
     "data": {
      "text/html": [
       "<pre>| 37440            | 15m 24s      | 45.75%           |</pre>"
      ],
      "text/plain": [
       "| 37440            | 15m 24s      | 45.75%           |"
      ]
     },
     "metadata": {},
     "output_type": "display_data"
    },
    {
     "data": {
      "text/html": [
       "<pre>| 37760            | 15m 32s      | 46%              |</pre>"
      ],
      "text/plain": [
       "| 37760            | 15m 32s      | 46%              |"
      ]
     },
     "metadata": {},
     "output_type": "display_data"
    },
    {
     "data": {
      "text/html": [
       "<pre>| 38080            | 15m 40s      | 46.5%            |</pre>"
      ],
      "text/plain": [
       "| 38080            | 15m 40s      | 46.5%            |"
      ]
     },
     "metadata": {},
     "output_type": "display_data"
    },
    {
     "data": {
      "text/html": [
       "<pre>| 38400            | 15m 47s      | 46.75%           |</pre>"
      ],
      "text/plain": [
       "| 38400            | 15m 47s      | 46.75%           |"
      ]
     },
     "metadata": {},
     "output_type": "display_data"
    },
    {
     "data": {
      "text/html": [
       "<pre>| 38720            | 15m 55s      | 47.25%           |</pre>"
      ],
      "text/plain": [
       "| 38720            | 15m 55s      | 47.25%           |"
      ]
     },
     "metadata": {},
     "output_type": "display_data"
    },
    {
     "data": {
      "text/html": [
       "<pre>| 39040            | 16m 3s       | 47.75%           |</pre>"
      ],
      "text/plain": [
       "| 39040            | 16m 3s       | 47.75%           |"
      ]
     },
     "metadata": {},
     "output_type": "display_data"
    },
    {
     "data": {
      "text/html": [
       "<pre>| 39360            | 16m 11s      | 48%              |</pre>"
      ],
      "text/plain": [
       "| 39360            | 16m 11s      | 48%              |"
      ]
     },
     "metadata": {},
     "output_type": "display_data"
    },
    {
     "data": {
      "text/html": [
       "<pre>| 39680            | 16m 19s      | 48.5%            |</pre>"
      ],
      "text/plain": [
       "| 39680            | 16m 19s      | 48.5%            |"
      ]
     },
     "metadata": {},
     "output_type": "display_data"
    },
    {
     "data": {
      "text/html": [
       "<pre>| 40000            | 16m 26s      | 48.75%           |</pre>"
      ],
      "text/plain": [
       "| 40000            | 16m 26s      | 48.75%           |"
      ]
     },
     "metadata": {},
     "output_type": "display_data"
    },
    {
     "data": {
      "text/html": [
       "<pre>| 40320            | 16m 34s      | 49.25%           |</pre>"
      ],
      "text/plain": [
       "| 40320            | 16m 34s      | 49.25%           |"
      ]
     },
     "metadata": {},
     "output_type": "display_data"
    },
    {
     "data": {
      "text/html": [
       "<pre>| 40640            | 16m 42s      | 49.5%            |</pre>"
      ],
      "text/plain": [
       "| 40640            | 16m 42s      | 49.5%            |"
      ]
     },
     "metadata": {},
     "output_type": "display_data"
    },
    {
     "data": {
      "text/html": [
       "<pre>| 40960            | 16m 50s      | 50%              |</pre>"
      ],
      "text/plain": [
       "| 40960            | 16m 50s      | 50%              |"
      ]
     },
     "metadata": {},
     "output_type": "display_data"
    },
    {
     "data": {
      "text/html": [
       "<pre>| 41280            | 16m 57s      | 50.5%            |</pre>"
      ],
      "text/plain": [
       "| 41280            | 16m 57s      | 50.5%            |"
      ]
     },
     "metadata": {},
     "output_type": "display_data"
    },
    {
     "data": {
      "text/html": [
       "<pre>| 41600            | 17m 5s       | 50.75%           |</pre>"
      ],
      "text/plain": [
       "| 41600            | 17m 5s       | 50.75%           |"
      ]
     },
     "metadata": {},
     "output_type": "display_data"
    },
    {
     "data": {
      "text/html": [
       "<pre>| 41920            | 17m 13s      | 51.25%           |</pre>"
      ],
      "text/plain": [
       "| 41920            | 17m 13s      | 51.25%           |"
      ]
     },
     "metadata": {},
     "output_type": "display_data"
    },
    {
     "data": {
      "text/html": [
       "<pre>| 42240            | 17m 21s      | 51.5%            |</pre>"
      ],
      "text/plain": [
       "| 42240            | 17m 21s      | 51.5%            |"
      ]
     },
     "metadata": {},
     "output_type": "display_data"
    },
    {
     "data": {
      "text/html": [
       "<pre>| 42560            | 17m 29s      | 52%              |</pre>"
      ],
      "text/plain": [
       "| 42560            | 17m 29s      | 52%              |"
      ]
     },
     "metadata": {},
     "output_type": "display_data"
    },
    {
     "data": {
      "text/html": [
       "<pre>| 42880            | 17m 36s      | 52.25%           |</pre>"
      ],
      "text/plain": [
       "| 42880            | 17m 36s      | 52.25%           |"
      ]
     },
     "metadata": {},
     "output_type": "display_data"
    },
    {
     "data": {
      "text/html": [
       "<pre>| 43200            | 17m 44s      | 52.75%           |</pre>"
      ],
      "text/plain": [
       "| 43200            | 17m 44s      | 52.75%           |"
      ]
     },
     "metadata": {},
     "output_type": "display_data"
    },
    {
     "data": {
      "text/html": [
       "<pre>| 43520            | 17m 52s      | 53%              |</pre>"
      ],
      "text/plain": [
       "| 43520            | 17m 52s      | 53%              |"
      ]
     },
     "metadata": {},
     "output_type": "display_data"
    },
    {
     "data": {
      "text/html": [
       "<pre>| 43840            | 18m 0s       | 53.5%            |</pre>"
      ],
      "text/plain": [
       "| 43840            | 18m 0s       | 53.5%            |"
      ]
     },
     "metadata": {},
     "output_type": "display_data"
    },
    {
     "data": {
      "text/html": [
       "<pre>| 44160            | 18m 8s       | 54%              |</pre>"
      ],
      "text/plain": [
       "| 44160            | 18m 8s       | 54%              |"
      ]
     },
     "metadata": {},
     "output_type": "display_data"
    },
    {
     "data": {
      "text/html": [
       "<pre>| 44480            | 18m 15s      | 54.25%           |</pre>"
      ],
      "text/plain": [
       "| 44480            | 18m 15s      | 54.25%           |"
      ]
     },
     "metadata": {},
     "output_type": "display_data"
    },
    {
     "data": {
      "text/html": [
       "<pre>| 44800            | 18m 23s      | 54.75%           |</pre>"
      ],
      "text/plain": [
       "| 44800            | 18m 23s      | 54.75%           |"
      ]
     },
     "metadata": {},
     "output_type": "display_data"
    },
    {
     "data": {
      "text/html": [
       "<pre>| 45120            | 18m 31s      | 55%              |</pre>"
      ],
      "text/plain": [
       "| 45120            | 18m 31s      | 55%              |"
      ]
     },
     "metadata": {},
     "output_type": "display_data"
    },
    {
     "data": {
      "text/html": [
       "<pre>| 45440            | 18m 39s      | 55.5%            |</pre>"
      ],
      "text/plain": [
       "| 45440            | 18m 39s      | 55.5%            |"
      ]
     },
     "metadata": {},
     "output_type": "display_data"
    },
    {
     "data": {
      "text/html": [
       "<pre>| 45760            | 18m 46s      | 55.75%           |</pre>"
      ],
      "text/plain": [
       "| 45760            | 18m 46s      | 55.75%           |"
      ]
     },
     "metadata": {},
     "output_type": "display_data"
    },
    {
     "data": {
      "text/html": [
       "<pre>| 46080            | 18m 54s      | 56.25%           |</pre>"
      ],
      "text/plain": [
       "| 46080            | 18m 54s      | 56.25%           |"
      ]
     },
     "metadata": {},
     "output_type": "display_data"
    },
    {
     "data": {
      "text/html": [
       "<pre>| 46400            | 19m 2s       | 56.75%           |</pre>"
      ],
      "text/plain": [
       "| 46400            | 19m 2s       | 56.75%           |"
      ]
     },
     "metadata": {},
     "output_type": "display_data"
    },
    {
     "data": {
      "text/html": [
       "<pre>| 46720            | 19m 10s      | 57%              |</pre>"
      ],
      "text/plain": [
       "| 46720            | 19m 10s      | 57%              |"
      ]
     },
     "metadata": {},
     "output_type": "display_data"
    },
    {
     "data": {
      "text/html": [
       "<pre>| 47040            | 19m 18s      | 57.5%            |</pre>"
      ],
      "text/plain": [
       "| 47040            | 19m 18s      | 57.5%            |"
      ]
     },
     "metadata": {},
     "output_type": "display_data"
    },
    {
     "data": {
      "text/html": [
       "<pre>| 47360            | 19m 25s      | 57.75%           |</pre>"
      ],
      "text/plain": [
       "| 47360            | 19m 25s      | 57.75%           |"
      ]
     },
     "metadata": {},
     "output_type": "display_data"
    },
    {
     "data": {
      "text/html": [
       "<pre>| 47680            | 19m 33s      | 58.25%           |</pre>"
      ],
      "text/plain": [
       "| 47680            | 19m 33s      | 58.25%           |"
      ]
     },
     "metadata": {},
     "output_type": "display_data"
    },
    {
     "data": {
      "text/html": [
       "<pre>| 48000            | 19m 42s      | 58.5%            |</pre>"
      ],
      "text/plain": [
       "| 48000            | 19m 42s      | 58.5%            |"
      ]
     },
     "metadata": {},
     "output_type": "display_data"
    },
    {
     "data": {
      "text/html": [
       "<pre>| 48320            | 19m 50s      | 59%              |</pre>"
      ],
      "text/plain": [
       "| 48320            | 19m 50s      | 59%              |"
      ]
     },
     "metadata": {},
     "output_type": "display_data"
    },
    {
     "data": {
      "text/html": [
       "<pre>| 48640            | 20m 24s      | 59.5%            |</pre>"
      ],
      "text/plain": [
       "| 48640            | 20m 24s      | 59.5%            |"
      ]
     },
     "metadata": {},
     "output_type": "display_data"
    },
    {
     "data": {
      "text/html": [
       "<pre>| 48960            | 20m 41s      | 59.75%           |</pre>"
      ],
      "text/plain": [
       "| 48960            | 20m 41s      | 59.75%           |"
      ]
     },
     "metadata": {},
     "output_type": "display_data"
    },
    {
     "data": {
      "text/html": [
       "<pre>| 49280            | 20m 48s      | 60.25%           |</pre>"
      ],
      "text/plain": [
       "| 49280            | 20m 48s      | 60.25%           |"
      ]
     },
     "metadata": {},
     "output_type": "display_data"
    },
    {
     "data": {
      "text/html": [
       "<pre>| 49600            | 20m 56s      | 60.5%            |</pre>"
      ],
      "text/plain": [
       "| 49600            | 20m 56s      | 60.5%            |"
      ]
     },
     "metadata": {},
     "output_type": "display_data"
    },
    {
     "data": {
      "text/html": [
       "<pre>| 49920            | 21m 4s       | 61%              |</pre>"
      ],
      "text/plain": [
       "| 49920            | 21m 4s       | 61%              |"
      ]
     },
     "metadata": {},
     "output_type": "display_data"
    },
    {
     "data": {
      "text/html": [
       "<pre>| 50240            | 21m 31s      | 61.25%           |</pre>"
      ],
      "text/plain": [
       "| 50240            | 21m 31s      | 61.25%           |"
      ]
     },
     "metadata": {},
     "output_type": "display_data"
    },
    {
     "data": {
      "text/html": [
       "<pre>| 50560            | 21m 39s      | 61.75%           |</pre>"
      ],
      "text/plain": [
       "| 50560            | 21m 39s      | 61.75%           |"
      ]
     },
     "metadata": {},
     "output_type": "display_data"
    },
    {
     "data": {
      "text/html": [
       "<pre>| 50880            | 21m 47s      | 62.25%           |</pre>"
      ],
      "text/plain": [
       "| 50880            | 21m 47s      | 62.25%           |"
      ]
     },
     "metadata": {},
     "output_type": "display_data"
    },
    {
     "data": {
      "text/html": [
       "<pre>| 51200            | 21m 55s      | 62.5%            |</pre>"
      ],
      "text/plain": [
       "| 51200            | 21m 55s      | 62.5%            |"
      ]
     },
     "metadata": {},
     "output_type": "display_data"
    },
    {
     "data": {
      "text/html": [
       "<pre>| 51520            | 22m 3s       | 63%              |</pre>"
      ],
      "text/plain": [
       "| 51520            | 22m 3s       | 63%              |"
      ]
     },
     "metadata": {},
     "output_type": "display_data"
    },
    {
     "data": {
      "text/html": [
       "<pre>| 51840            | 22m 11s      | 63.25%           |</pre>"
      ],
      "text/plain": [
       "| 51840            | 22m 11s      | 63.25%           |"
      ]
     },
     "metadata": {},
     "output_type": "display_data"
    },
    {
     "data": {
      "text/html": [
       "<pre>| 52160            | 22m 19s      | 63.75%           |</pre>"
      ],
      "text/plain": [
       "| 52160            | 22m 19s      | 63.75%           |"
      ]
     },
     "metadata": {},
     "output_type": "display_data"
    },
    {
     "data": {
      "text/html": [
       "<pre>| 52480            | 22m 26s      | 64%              |</pre>"
      ],
      "text/plain": [
       "| 52480            | 22m 26s      | 64%              |"
      ]
     },
     "metadata": {},
     "output_type": "display_data"
    },
    {
     "data": {
      "text/html": [
       "<pre>| 52800            | 22m 34s      | 64.5%            |</pre>"
      ],
      "text/plain": [
       "| 52800            | 22m 34s      | 64.5%            |"
      ]
     },
     "metadata": {},
     "output_type": "display_data"
    },
    {
     "data": {
      "text/html": [
       "<pre>| 53120            | 22m 42s      | 64.75%           |</pre>"
      ],
      "text/plain": [
       "| 53120            | 22m 42s      | 64.75%           |"
      ]
     },
     "metadata": {},
     "output_type": "display_data"
    },
    {
     "data": {
      "text/html": [
       "<pre>| 53440            | 22m 50s      | 65.25%           |</pre>"
      ],
      "text/plain": [
       "| 53440            | 22m 50s      | 65.25%           |"
      ]
     },
     "metadata": {},
     "output_type": "display_data"
    },
    {
     "data": {
      "text/html": [
       "<pre>| 53760            | 22m 58s      | 65.75%           |</pre>"
      ],
      "text/plain": [
       "| 53760            | 22m 58s      | 65.75%           |"
      ]
     },
     "metadata": {},
     "output_type": "display_data"
    },
    {
     "data": {
      "text/html": [
       "<pre>| 54080            | 23m 6s       | 66%              |</pre>"
      ],
      "text/plain": [
       "| 54080            | 23m 6s       | 66%              |"
      ]
     },
     "metadata": {},
     "output_type": "display_data"
    },
    {
     "data": {
      "text/html": [
       "<pre>| 54400            | 23m 13s      | 66.5%            |</pre>"
      ],
      "text/plain": [
       "| 54400            | 23m 13s      | 66.5%            |"
      ]
     },
     "metadata": {},
     "output_type": "display_data"
    },
    {
     "data": {
      "text/html": [
       "<pre>| 54720            | 23m 21s      | 66.75%           |</pre>"
      ],
      "text/plain": [
       "| 54720            | 23m 21s      | 66.75%           |"
      ]
     },
     "metadata": {},
     "output_type": "display_data"
    },
    {
     "data": {
      "text/html": [
       "<pre>| 55040            | 23m 29s      | 67.25%           |</pre>"
      ],
      "text/plain": [
       "| 55040            | 23m 29s      | 67.25%           |"
      ]
     },
     "metadata": {},
     "output_type": "display_data"
    },
    {
     "data": {
      "text/html": [
       "<pre>| 55360            | 23m 38s      | 67.5%            |</pre>"
      ],
      "text/plain": [
       "| 55360            | 23m 38s      | 67.5%            |"
      ]
     },
     "metadata": {},
     "output_type": "display_data"
    },
    {
     "data": {
      "text/html": [
       "<pre>| 55680            | 23m 46s      | 68%              |</pre>"
      ],
      "text/plain": [
       "| 55680            | 23m 46s      | 68%              |"
      ]
     },
     "metadata": {},
     "output_type": "display_data"
    },
    {
     "data": {
      "text/html": [
       "<pre>| 56000            | 23m 53s      | 68.5%            |</pre>"
      ],
      "text/plain": [
       "| 56000            | 23m 53s      | 68.5%            |"
      ]
     },
     "metadata": {},
     "output_type": "display_data"
    },
    {
     "data": {
      "text/html": [
       "<pre>| 56320            | 24m 1s       | 68.75%           |</pre>"
      ],
      "text/plain": [
       "| 56320            | 24m 1s       | 68.75%           |"
      ]
     },
     "metadata": {},
     "output_type": "display_data"
    },
    {
     "data": {
      "text/html": [
       "<pre>| 56640            | 24m 9s       | 69.25%           |</pre>"
      ],
      "text/plain": [
       "| 56640            | 24m 9s       | 69.25%           |"
      ]
     },
     "metadata": {},
     "output_type": "display_data"
    },
    {
     "data": {
      "text/html": [
       "<pre>| 56960            | 24m 17s      | 69.5%            |</pre>"
      ],
      "text/plain": [
       "| 56960            | 24m 17s      | 69.5%            |"
      ]
     },
     "metadata": {},
     "output_type": "display_data"
    },
    {
     "data": {
      "text/html": [
       "<pre>| 57280            | 24m 25s      | 70%              |</pre>"
      ],
      "text/plain": [
       "| 57280            | 24m 25s      | 70%              |"
      ]
     },
     "metadata": {},
     "output_type": "display_data"
    },
    {
     "data": {
      "text/html": [
       "<pre>| 57600            | 24m 33s      | 70.25%           |</pre>"
      ],
      "text/plain": [
       "| 57600            | 24m 33s      | 70.25%           |"
      ]
     },
     "metadata": {},
     "output_type": "display_data"
    },
    {
     "data": {
      "text/html": [
       "<pre>| 57920            | 24m 41s      | 70.75%           |</pre>"
      ],
      "text/plain": [
       "| 57920            | 24m 41s      | 70.75%           |"
      ]
     },
     "metadata": {},
     "output_type": "display_data"
    },
    {
     "data": {
      "text/html": [
       "<pre>| 58240            | 24m 49s      | 71.25%           |</pre>"
      ],
      "text/plain": [
       "| 58240            | 24m 49s      | 71.25%           |"
      ]
     },
     "metadata": {},
     "output_type": "display_data"
    },
    {
     "data": {
      "text/html": [
       "<pre>| 58560            | 24m 57s      | 71.5%            |</pre>"
      ],
      "text/plain": [
       "| 58560            | 24m 57s      | 71.5%            |"
      ]
     },
     "metadata": {},
     "output_type": "display_data"
    },
    {
     "data": {
      "text/html": [
       "<pre>| 58880            | 25m 5s       | 72%              |</pre>"
      ],
      "text/plain": [
       "| 58880            | 25m 5s       | 72%              |"
      ]
     },
     "metadata": {},
     "output_type": "display_data"
    },
    {
     "data": {
      "text/html": [
       "<pre>| 59200            | 25m 12s      | 72.25%           |</pre>"
      ],
      "text/plain": [
       "| 59200            | 25m 12s      | 72.25%           |"
      ]
     },
     "metadata": {},
     "output_type": "display_data"
    },
    {
     "data": {
      "text/html": [
       "<pre>| 59520            | 25m 21s      | 72.75%           |</pre>"
      ],
      "text/plain": [
       "| 59520            | 25m 21s      | 72.75%           |"
      ]
     },
     "metadata": {},
     "output_type": "display_data"
    },
    {
     "data": {
      "text/html": [
       "<pre>| 59840            | 25m 28s      | 73%              |</pre>"
      ],
      "text/plain": [
       "| 59840            | 25m 28s      | 73%              |"
      ]
     },
     "metadata": {},
     "output_type": "display_data"
    },
    {
     "data": {
      "text/html": [
       "<pre>| 60160            | 25m 36s      | 73.5%            |</pre>"
      ],
      "text/plain": [
       "| 60160            | 25m 36s      | 73.5%            |"
      ]
     },
     "metadata": {},
     "output_type": "display_data"
    },
    {
     "data": {
      "text/html": [
       "<pre>| 60480            | 25m 44s      | 74%              |</pre>"
      ],
      "text/plain": [
       "| 60480            | 25m 44s      | 74%              |"
      ]
     },
     "metadata": {},
     "output_type": "display_data"
    },
    {
     "data": {
      "text/html": [
       "<pre>| 60800            | 25m 52s      | 74.25%           |</pre>"
      ],
      "text/plain": [
       "| 60800            | 25m 52s      | 74.25%           |"
      ]
     },
     "metadata": {},
     "output_type": "display_data"
    },
    {
     "data": {
      "text/html": [
       "<pre>| 61120            | 26m 0s       | 74.75%           |</pre>"
      ],
      "text/plain": [
       "| 61120            | 26m 0s       | 74.75%           |"
      ]
     },
     "metadata": {},
     "output_type": "display_data"
    },
    {
     "data": {
      "text/html": [
       "<pre>| 61440            | 26m 8s       | 75%              |</pre>"
      ],
      "text/plain": [
       "| 61440            | 26m 8s       | 75%              |"
      ]
     },
     "metadata": {},
     "output_type": "display_data"
    },
    {
     "data": {
      "text/html": [
       "<pre>| 61760            | 26m 16s      | 75.5%            |</pre>"
      ],
      "text/plain": [
       "| 61760            | 26m 16s      | 75.5%            |"
      ]
     },
     "metadata": {},
     "output_type": "display_data"
    },
    {
     "data": {
      "text/html": [
       "<pre>| 62080            | 26m 24s      | 75.75%           |</pre>"
      ],
      "text/plain": [
       "| 62080            | 26m 24s      | 75.75%           |"
      ]
     },
     "metadata": {},
     "output_type": "display_data"
    },
    {
     "data": {
      "text/html": [
       "<pre>| 62400            | 26m 32s      | 76.25%           |</pre>"
      ],
      "text/plain": [
       "| 62400            | 26m 32s      | 76.25%           |"
      ]
     },
     "metadata": {},
     "output_type": "display_data"
    },
    {
     "data": {
      "text/html": [
       "<pre>| 62720            | 26m 40s      | 76.5%            |</pre>"
      ],
      "text/plain": [
       "| 62720            | 26m 40s      | 76.5%            |"
      ]
     },
     "metadata": {},
     "output_type": "display_data"
    },
    {
     "data": {
      "text/html": [
       "<pre>| 63040            | 26m 48s      | 77%              |</pre>"
      ],
      "text/plain": [
       "| 63040            | 26m 48s      | 77%              |"
      ]
     },
     "metadata": {},
     "output_type": "display_data"
    },
    {
     "data": {
      "text/html": [
       "<pre>| 63360            | 26m 56s      | 77.5%            |</pre>"
      ],
      "text/plain": [
       "| 63360            | 26m 56s      | 77.5%            |"
      ]
     },
     "metadata": {},
     "output_type": "display_data"
    },
    {
     "data": {
      "text/html": [
       "<pre>| 63680            | 27m 4s       | 77.75%           |</pre>"
      ],
      "text/plain": [
       "| 63680            | 27m 4s       | 77.75%           |"
      ]
     },
     "metadata": {},
     "output_type": "display_data"
    },
    {
     "data": {
      "text/html": [
       "<pre>| 64000            | 27m 12s      | 78.25%           |</pre>"
      ],
      "text/plain": [
       "| 64000            | 27m 12s      | 78.25%           |"
      ]
     },
     "metadata": {},
     "output_type": "display_data"
    },
    {
     "data": {
      "text/html": [
       "<pre>| 64320            | 27m 20s      | 78.5%            |</pre>"
      ],
      "text/plain": [
       "| 64320            | 27m 20s      | 78.5%            |"
      ]
     },
     "metadata": {},
     "output_type": "display_data"
    },
    {
     "data": {
      "text/html": [
       "<pre>| 64640            | 27m 28s      | 79%              |</pre>"
      ],
      "text/plain": [
       "| 64640            | 27m 28s      | 79%              |"
      ]
     },
     "metadata": {},
     "output_type": "display_data"
    },
    {
     "data": {
      "text/html": [
       "<pre>| 64960            | 27m 36s      | 79.25%           |</pre>"
      ],
      "text/plain": [
       "| 64960            | 27m 36s      | 79.25%           |"
      ]
     },
     "metadata": {},
     "output_type": "display_data"
    },
    {
     "data": {
      "text/html": [
       "<pre>| 65280            | 27m 44s      | 79.75%           |</pre>"
      ],
      "text/plain": [
       "| 65280            | 27m 44s      | 79.75%           |"
      ]
     },
     "metadata": {},
     "output_type": "display_data"
    },
    {
     "data": {
      "text/html": [
       "<pre>| 65600            | 27m 51s      | 80.25%           |</pre>"
      ],
      "text/plain": [
       "| 65600            | 27m 51s      | 80.25%           |"
      ]
     },
     "metadata": {},
     "output_type": "display_data"
    },
    {
     "data": {
      "text/html": [
       "<pre>| 65920            | 27m 59s      | 80.5%            |</pre>"
      ],
      "text/plain": [
       "| 65920            | 27m 59s      | 80.5%            |"
      ]
     },
     "metadata": {},
     "output_type": "display_data"
    },
    {
     "data": {
      "text/html": [
       "<pre>| 66240            | 28m 7s       | 81%              |</pre>"
      ],
      "text/plain": [
       "| 66240            | 28m 7s       | 81%              |"
      ]
     },
     "metadata": {},
     "output_type": "display_data"
    },
    {
     "data": {
      "text/html": [
       "<pre>| 66560            | 28m 15s      | 81.25%           |</pre>"
      ],
      "text/plain": [
       "| 66560            | 28m 15s      | 81.25%           |"
      ]
     },
     "metadata": {},
     "output_type": "display_data"
    },
    {
     "data": {
      "text/html": [
       "<pre>| 66880            | 28m 23s      | 81.75%           |</pre>"
      ],
      "text/plain": [
       "| 66880            | 28m 23s      | 81.75%           |"
      ]
     },
     "metadata": {},
     "output_type": "display_data"
    },
    {
     "data": {
      "text/html": [
       "<pre>| 67200            | 28m 31s      | 82%              |</pre>"
      ],
      "text/plain": [
       "| 67200            | 28m 31s      | 82%              |"
      ]
     },
     "metadata": {},
     "output_type": "display_data"
    },
    {
     "data": {
      "text/html": [
       "<pre>| 67520            | 28m 39s      | 82.5%            |</pre>"
      ],
      "text/plain": [
       "| 67520            | 28m 39s      | 82.5%            |"
      ]
     },
     "metadata": {},
     "output_type": "display_data"
    },
    {
     "data": {
      "text/html": [
       "<pre>| 67840            | 28m 47s      | 83%              |</pre>"
      ],
      "text/plain": [
       "| 67840            | 28m 47s      | 83%              |"
      ]
     },
     "metadata": {},
     "output_type": "display_data"
    },
    {
     "data": {
      "text/html": [
       "<pre>| 68160            | 28m 55s      | 83.25%           |</pre>"
      ],
      "text/plain": [
       "| 68160            | 28m 55s      | 83.25%           |"
      ]
     },
     "metadata": {},
     "output_type": "display_data"
    },
    {
     "data": {
      "text/html": [
       "<pre>| 68480            | 29m 3s       | 83.75%           |</pre>"
      ],
      "text/plain": [
       "| 68480            | 29m 3s       | 83.75%           |"
      ]
     },
     "metadata": {},
     "output_type": "display_data"
    },
    {
     "data": {
      "text/html": [
       "<pre>| 68800            | 29m 11s      | 84%              |</pre>"
      ],
      "text/plain": [
       "| 68800            | 29m 11s      | 84%              |"
      ]
     },
     "metadata": {},
     "output_type": "display_data"
    },
    {
     "data": {
      "text/html": [
       "<pre>| 69120            | 29m 19s      | 84.5%            |</pre>"
      ],
      "text/plain": [
       "| 69120            | 29m 19s      | 84.5%            |"
      ]
     },
     "metadata": {},
     "output_type": "display_data"
    },
    {
     "data": {
      "text/html": [
       "<pre>| 69440            | 29m 27s      | 84.75%           |</pre>"
      ],
      "text/plain": [
       "| 69440            | 29m 27s      | 84.75%           |"
      ]
     },
     "metadata": {},
     "output_type": "display_data"
    },
    {
     "data": {
      "text/html": [
       "<pre>| 69760            | 29m 35s      | 85.25%           |</pre>"
      ],
      "text/plain": [
       "| 69760            | 29m 35s      | 85.25%           |"
      ]
     },
     "metadata": {},
     "output_type": "display_data"
    },
    {
     "data": {
      "text/html": [
       "<pre>| 70080            | 29m 43s      | 85.5%            |</pre>"
      ],
      "text/plain": [
       "| 70080            | 29m 43s      | 85.5%            |"
      ]
     },
     "metadata": {},
     "output_type": "display_data"
    },
    {
     "data": {
      "text/html": [
       "<pre>| 70400            | 29m 50s      | 86%              |</pre>"
      ],
      "text/plain": [
       "| 70400            | 29m 50s      | 86%              |"
      ]
     },
     "metadata": {},
     "output_type": "display_data"
    },
    {
     "data": {
      "text/html": [
       "<pre>| 70720            | 29m 58s      | 86.5%            |</pre>"
      ],
      "text/plain": [
       "| 70720            | 29m 58s      | 86.5%            |"
      ]
     },
     "metadata": {},
     "output_type": "display_data"
    },
    {
     "data": {
      "text/html": [
       "<pre>| 71040            | 30m 6s       | 86.75%           |</pre>"
      ],
      "text/plain": [
       "| 71040            | 30m 6s       | 86.75%           |"
      ]
     },
     "metadata": {},
     "output_type": "display_data"
    },
    {
     "data": {
      "text/html": [
       "<pre>| 71360            | 30m 14s      | 87.25%           |</pre>"
      ],
      "text/plain": [
       "| 71360            | 30m 14s      | 87.25%           |"
      ]
     },
     "metadata": {},
     "output_type": "display_data"
    },
    {
     "data": {
      "text/html": [
       "<pre>| 71680            | 30m 22s      | 87.5%            |</pre>"
      ],
      "text/plain": [
       "| 71680            | 30m 22s      | 87.5%            |"
      ]
     },
     "metadata": {},
     "output_type": "display_data"
    },
    {
     "data": {
      "text/html": [
       "<pre>| 72000            | 30m 29s      | 88%              |</pre>"
      ],
      "text/plain": [
       "| 72000            | 30m 29s      | 88%              |"
      ]
     },
     "metadata": {},
     "output_type": "display_data"
    },
    {
     "data": {
      "text/html": [
       "<pre>| 72320            | 30m 37s      | 88.25%           |</pre>"
      ],
      "text/plain": [
       "| 72320            | 30m 37s      | 88.25%           |"
      ]
     },
     "metadata": {},
     "output_type": "display_data"
    },
    {
     "data": {
      "text/html": [
       "<pre>| 72640            | 30m 45s      | 88.75%           |</pre>"
      ],
      "text/plain": [
       "| 72640            | 30m 45s      | 88.75%           |"
      ]
     },
     "metadata": {},
     "output_type": "display_data"
    },
    {
     "data": {
      "text/html": [
       "<pre>| 72960            | 30m 53s      | 89.25%           |</pre>"
      ],
      "text/plain": [
       "| 72960            | 30m 53s      | 89.25%           |"
      ]
     },
     "metadata": {},
     "output_type": "display_data"
    },
    {
     "data": {
      "text/html": [
       "<pre>| 73280            | 31m 1s       | 89.5%            |</pre>"
      ],
      "text/plain": [
       "| 73280            | 31m 1s       | 89.5%            |"
      ]
     },
     "metadata": {},
     "output_type": "display_data"
    },
    {
     "data": {
      "text/html": [
       "<pre>| 73600            | 31m 8s       | 90%              |</pre>"
      ],
      "text/plain": [
       "| 73600            | 31m 8s       | 90%              |"
      ]
     },
     "metadata": {},
     "output_type": "display_data"
    },
    {
     "data": {
      "text/html": [
       "<pre>| 73920            | 31m 16s      | 90.25%           |</pre>"
      ],
      "text/plain": [
       "| 73920            | 31m 16s      | 90.25%           |"
      ]
     },
     "metadata": {},
     "output_type": "display_data"
    },
    {
     "data": {
      "text/html": [
       "<pre>| 74240            | 31m 24s      | 90.75%           |</pre>"
      ],
      "text/plain": [
       "| 74240            | 31m 24s      | 90.75%           |"
      ]
     },
     "metadata": {},
     "output_type": "display_data"
    },
    {
     "data": {
      "text/html": [
       "<pre>| 74560            | 31m 32s      | 91%              |</pre>"
      ],
      "text/plain": [
       "| 74560            | 31m 32s      | 91%              |"
      ]
     },
     "metadata": {},
     "output_type": "display_data"
    },
    {
     "data": {
      "text/html": [
       "<pre>| 74880            | 31m 40s      | 91.5%            |</pre>"
      ],
      "text/plain": [
       "| 74880            | 31m 40s      | 91.5%            |"
      ]
     },
     "metadata": {},
     "output_type": "display_data"
    },
    {
     "data": {
      "text/html": [
       "<pre>| 75200            | 31m 48s      | 92%              |</pre>"
      ],
      "text/plain": [
       "| 75200            | 31m 48s      | 92%              |"
      ]
     },
     "metadata": {},
     "output_type": "display_data"
    },
    {
     "data": {
      "text/html": [
       "<pre>| 75520            | 31m 55s      | 92.25%           |</pre>"
      ],
      "text/plain": [
       "| 75520            | 31m 55s      | 92.25%           |"
      ]
     },
     "metadata": {},
     "output_type": "display_data"
    },
    {
     "data": {
      "text/html": [
       "<pre>| 75840            | 32m 3s       | 92.75%           |</pre>"
      ],
      "text/plain": [
       "| 75840            | 32m 3s       | 92.75%           |"
      ]
     },
     "metadata": {},
     "output_type": "display_data"
    },
    {
     "data": {
      "text/html": [
       "<pre>| 76160            | 32m 11s      | 93%              |</pre>"
      ],
      "text/plain": [
       "| 76160            | 32m 11s      | 93%              |"
      ]
     },
     "metadata": {},
     "output_type": "display_data"
    },
    {
     "data": {
      "text/html": [
       "<pre>| 76480            | 32m 19s      | 93.5%            |</pre>"
      ],
      "text/plain": [
       "| 76480            | 32m 19s      | 93.5%            |"
      ]
     },
     "metadata": {},
     "output_type": "display_data"
    },
    {
     "data": {
      "text/html": [
       "<pre>| 76800            | 32m 27s      | 93.75%           |</pre>"
      ],
      "text/plain": [
       "| 76800            | 32m 27s      | 93.75%           |"
      ]
     },
     "metadata": {},
     "output_type": "display_data"
    },
    {
     "data": {
      "text/html": [
       "<pre>| 77120            | 32m 34s      | 94.25%           |</pre>"
      ],
      "text/plain": [
       "| 77120            | 32m 34s      | 94.25%           |"
      ]
     },
     "metadata": {},
     "output_type": "display_data"
    },
    {
     "data": {
      "text/html": [
       "<pre>| 77440            | 32m 42s      | 94.75%           |</pre>"
      ],
      "text/plain": [
       "| 77440            | 32m 42s      | 94.75%           |"
      ]
     },
     "metadata": {},
     "output_type": "display_data"
    },
    {
     "data": {
      "text/html": [
       "<pre>| 77760            | 32m 50s      | 95%              |</pre>"
      ],
      "text/plain": [
       "| 77760            | 32m 50s      | 95%              |"
      ]
     },
     "metadata": {},
     "output_type": "display_data"
    },
    {
     "data": {
      "text/html": [
       "<pre>| 78080            | 32m 58s      | 95.5%            |</pre>"
      ],
      "text/plain": [
       "| 78080            | 32m 58s      | 95.5%            |"
      ]
     },
     "metadata": {},
     "output_type": "display_data"
    },
    {
     "data": {
      "text/html": [
       "<pre>| 78400            | 33m 6s       | 95.75%           |</pre>"
      ],
      "text/plain": [
       "| 78400            | 33m 6s       | 95.75%           |"
      ]
     },
     "metadata": {},
     "output_type": "display_data"
    },
    {
     "data": {
      "text/html": [
       "<pre>| 78720            | 33m 13s      | 96.25%           |</pre>"
      ],
      "text/plain": [
       "| 78720            | 33m 13s      | 96.25%           |"
      ]
     },
     "metadata": {},
     "output_type": "display_data"
    },
    {
     "data": {
      "text/html": [
       "<pre>| 79040            | 33m 21s      | 96.5%            |</pre>"
      ],
      "text/plain": [
       "| 79040            | 33m 21s      | 96.5%            |"
      ]
     },
     "metadata": {},
     "output_type": "display_data"
    },
    {
     "data": {
      "text/html": [
       "<pre>| 79360            | 33m 29s      | 97%              |</pre>"
      ],
      "text/plain": [
       "| 79360            | 33m 29s      | 97%              |"
      ]
     },
     "metadata": {},
     "output_type": "display_data"
    },
    {
     "data": {
      "text/html": [
       "<pre>| 79680            | 33m 37s      | 97.25%           |</pre>"
      ],
      "text/plain": [
       "| 79680            | 33m 37s      | 97.25%           |"
      ]
     },
     "metadata": {},
     "output_type": "display_data"
    },
    {
     "data": {
      "text/html": [
       "<pre>| 80000            | 33m 45s      | 97.75%           |</pre>"
      ],
      "text/plain": [
       "| 80000            | 33m 45s      | 97.75%           |"
      ]
     },
     "metadata": {},
     "output_type": "display_data"
    },
    {
     "data": {
      "text/html": [
       "<pre>| 80320            | 33m 51s      | 98.25%           |</pre>"
      ],
      "text/plain": [
       "| 80320            | 33m 51s      | 98.25%           |"
      ]
     },
     "metadata": {},
     "output_type": "display_data"
    },
    {
     "data": {
      "text/html": [
       "<pre>| 80640            | 33m 59s      | 98.5%            |</pre>"
      ],
      "text/plain": [
       "| 80640            | 33m 59s      | 98.5%            |"
      ]
     },
     "metadata": {},
     "output_type": "display_data"
    },
    {
     "data": {
      "text/html": [
       "<pre>| 80960            | 34m 7s       | 99%              |</pre>"
      ],
      "text/plain": [
       "| 80960            | 34m 7s       | 99%              |"
      ]
     },
     "metadata": {},
     "output_type": "display_data"
    },
    {
     "data": {
      "text/html": [
       "<pre>| 81280            | 34m 14s      | 99.25%           |</pre>"
      ],
      "text/plain": [
       "| 81280            | 34m 14s      | 99.25%           |"
      ]
     },
     "metadata": {},
     "output_type": "display_data"
    },
    {
     "data": {
      "text/html": [
       "<pre>| 81600            | 34m 22s      | 99.75%           |</pre>"
      ],
      "text/plain": [
       "| 81600            | 34m 22s      | 99.75%           |"
      ]
     },
     "metadata": {},
     "output_type": "display_data"
    },
    {
     "data": {
      "text/html": [
       "<pre>| 81675            | 34m 25s      | 100%             |</pre>"
      ],
      "text/plain": [
       "| 81675            | 34m 25s      | 100%             |"
      ]
     },
     "metadata": {},
     "output_type": "display_data"
    },
    {
     "data": {
      "text/html": [
       "<pre>+------------------+--------------+------------------+</pre>"
      ],
      "text/plain": [
       "+------------------+--------------+------------------+"
      ]
     },
     "metadata": {},
     "output_type": "display_data"
    },
    {
     "name": "stdout",
     "output_type": "stream",
     "text": [
      "PROGRESS: Creating a validation set from 5 percent of training data. This may take a while.\n",
      "          You can set ``validation_set=None`` to disable validation tracking.\n",
      "\n"
     ]
    },
    {
     "data": {
      "text/html": [
       "<pre>Logistic regression:</pre>"
      ],
      "text/plain": [
       "Logistic regression:"
      ]
     },
     "metadata": {},
     "output_type": "display_data"
    },
    {
     "data": {
      "text/html": [
       "<pre>--------------------------------------------------------</pre>"
      ],
      "text/plain": [
       "--------------------------------------------------------"
      ]
     },
     "metadata": {},
     "output_type": "display_data"
    },
    {
     "data": {
      "text/html": [
       "<pre>Number of examples          : 77591</pre>"
      ],
      "text/plain": [
       "Number of examples          : 77591"
      ]
     },
     "metadata": {},
     "output_type": "display_data"
    },
    {
     "data": {
      "text/html": [
       "<pre>Number of classes           : 2</pre>"
      ],
      "text/plain": [
       "Number of classes           : 2"
      ]
     },
     "metadata": {},
     "output_type": "display_data"
    },
    {
     "data": {
      "text/html": [
       "<pre>Number of feature columns   : 1</pre>"
      ],
      "text/plain": [
       "Number of feature columns   : 1"
      ]
     },
     "metadata": {},
     "output_type": "display_data"
    },
    {
     "data": {
      "text/html": [
       "<pre>Number of unpacked features : 2048</pre>"
      ],
      "text/plain": [
       "Number of unpacked features : 2048"
      ]
     },
     "metadata": {},
     "output_type": "display_data"
    },
    {
     "data": {
      "text/html": [
       "<pre>Number of coefficients      : 2049</pre>"
      ],
      "text/plain": [
       "Number of coefficients      : 2049"
      ]
     },
     "metadata": {},
     "output_type": "display_data"
    },
    {
     "data": {
      "text/html": [
       "<pre>Starting L-BFGS</pre>"
      ],
      "text/plain": [
       "Starting L-BFGS"
      ]
     },
     "metadata": {},
     "output_type": "display_data"
    },
    {
     "data": {
      "text/html": [
       "<pre>--------------------------------------------------------</pre>"
      ],
      "text/plain": [
       "--------------------------------------------------------"
      ]
     },
     "metadata": {},
     "output_type": "display_data"
    },
    {
     "data": {
      "text/html": [
       "<pre>+-----------+----------+-----------+--------------+-------------------+---------------------+</pre>"
      ],
      "text/plain": [
       "+-----------+----------+-----------+--------------+-------------------+---------------------+"
      ]
     },
     "metadata": {},
     "output_type": "display_data"
    },
    {
     "data": {
      "text/html": [
       "<pre>| Iteration | Passes   | Step size | Elapsed Time | Training Accuracy | Validation Accuracy |</pre>"
      ],
      "text/plain": [
       "| Iteration | Passes   | Step size | Elapsed Time | Training Accuracy | Validation Accuracy |"
      ]
     },
     "metadata": {},
     "output_type": "display_data"
    },
    {
     "data": {
      "text/html": [
       "<pre>+-----------+----------+-----------+--------------+-------------------+---------------------+</pre>"
      ],
      "text/plain": [
       "+-----------+----------+-----------+--------------+-------------------+---------------------+"
      ]
     },
     "metadata": {},
     "output_type": "display_data"
    },
    {
     "data": {
      "text/html": [
       "<pre>| 0         | 5        | 0.064347  | 4.533203     | 0.664832          | 0.667483            |</pre>"
      ],
      "text/plain": [
       "| 0         | 5        | 0.064347  | 4.533203     | 0.664832          | 0.667483            |"
      ]
     },
     "metadata": {},
     "output_type": "display_data"
    },
    {
     "data": {
      "text/html": [
       "<pre>| 1         | 8        | 0.321735  | 8.576337     | 0.806807          | 0.806562            |</pre>"
      ],
      "text/plain": [
       "| 1         | 8        | 0.321735  | 8.576337     | 0.806807          | 0.806562            |"
      ]
     },
     "metadata": {},
     "output_type": "display_data"
    },
    {
     "data": {
      "text/html": [
       "<pre>| 2         | 11       | 1.608675  | 12.978924    | 0.916794          | 0.920176            |</pre>"
      ],
      "text/plain": [
       "| 2         | 11       | 1.608675  | 12.978924    | 0.916794          | 0.920176            |"
      ]
     },
     "metadata": {},
     "output_type": "display_data"
    },
    {
     "data": {
      "text/html": [
       "<pre>Warning: Reached max step size.</pre>"
      ],
      "text/plain": [
       "Warning: Reached max step size."
      ]
     },
     "metadata": {},
     "output_type": "display_data"
    },
    {
     "data": {
      "text/html": [
       "<pre>| 3         | 18       | 25.000000 | 20.453979    | 0.937222          | 0.939030            |</pre>"
      ],
      "text/plain": [
       "| 3         | 18       | 25.000000 | 20.453979    | 0.937222          | 0.939030            |"
      ]
     },
     "metadata": {},
     "output_type": "display_data"
    },
    {
     "data": {
      "text/html": [
       "<pre>| 4         | 19       | 25.000000 | 22.830255    | 0.935289          | 0.933399            |</pre>"
      ],
      "text/plain": [
       "| 4         | 19       | 25.000000 | 22.830255    | 0.935289          | 0.933399            |"
      ]
     },
     "metadata": {},
     "output_type": "display_data"
    },
    {
     "data": {
      "text/html": [
       "<pre>| 6         | 23       | 3.740319  | 31.863361    | 0.961568          | 0.966210            |</pre>"
      ],
      "text/plain": [
       "| 6         | 23       | 3.740319  | 31.863361    | 0.961568          | 0.966210            |"
      ]
     },
     "metadata": {},
     "output_type": "display_data"
    },
    {
     "data": {
      "text/html": [
       "<pre>| 7         | 24       | 3.740319  | 35.147159    | 0.959892          | 0.963761            |</pre>"
      ],
      "text/plain": [
       "| 7         | 24       | 3.740319  | 35.147159    | 0.959892          | 0.963761            |"
      ]
     },
     "metadata": {},
     "output_type": "display_data"
    },
    {
     "data": {
      "text/html": [
       "<pre>| 8         | 26       | 2.047120  | 39.825296    | 0.965859          | 0.969393            |</pre>"
      ],
      "text/plain": [
       "| 8         | 26       | 2.047120  | 39.825296    | 0.965859          | 0.969393            |"
      ]
     },
     "metadata": {},
     "output_type": "display_data"
    },
    {
     "data": {
      "text/html": [
       "<pre>| 9         | 27       | 2.047120  | 42.574631    | 0.966104          | 0.966944            |</pre>"
      ],
      "text/plain": [
       "| 9         | 27       | 2.047120  | 42.574631    | 0.966104          | 0.966944            |"
      ]
     },
     "metadata": {},
     "output_type": "display_data"
    },
    {
     "data": {
      "text/html": [
       "<pre>+-----------+----------+-----------+--------------+-------------------+---------------------+</pre>"
      ],
      "text/plain": [
       "+-----------+----------+-----------+--------------+-------------------+---------------------+"
      ]
     },
     "metadata": {},
     "output_type": "display_data"
    },
    {
     "data": {
      "text/html": [
       "<pre>Analyzing and extracting image features.</pre>"
      ],
      "text/plain": [
       "Analyzing and extracting image features."
      ]
     },
     "metadata": {},
     "output_type": "display_data"
    },
    {
     "data": {
      "text/html": [
       "<pre>+------------------+--------------+------------------+</pre>"
      ],
      "text/plain": [
       "+------------------+--------------+------------------+"
      ]
     },
     "metadata": {},
     "output_type": "display_data"
    },
    {
     "data": {
      "text/html": [
       "<pre>| Images Processed | Elapsed Time | Percent Complete |</pre>"
      ],
      "text/plain": [
       "| Images Processed | Elapsed Time | Percent Complete |"
      ]
     },
     "metadata": {},
     "output_type": "display_data"
    },
    {
     "data": {
      "text/html": [
       "<pre>+------------------+--------------+------------------+</pre>"
      ],
      "text/plain": [
       "+------------------+--------------+------------------+"
      ]
     },
     "metadata": {},
     "output_type": "display_data"
    },
    {
     "data": {
      "text/html": [
       "<pre>| 64               | 1.74s        | 1.75%            |</pre>"
      ],
      "text/plain": [
       "| 64               | 1.74s        | 1.75%            |"
      ]
     },
     "metadata": {},
     "output_type": "display_data"
    },
    {
     "data": {
      "text/html": [
       "<pre>| 128              | 3.29s        | 3.75%            |</pre>"
      ],
      "text/plain": [
       "| 128              | 3.29s        | 3.75%            |"
      ]
     },
     "metadata": {},
     "output_type": "display_data"
    },
    {
     "data": {
      "text/html": [
       "<pre>| 192              | 4.84s        | 5.75%            |</pre>"
      ],
      "text/plain": [
       "| 192              | 4.84s        | 5.75%            |"
      ]
     },
     "metadata": {},
     "output_type": "display_data"
    },
    {
     "data": {
      "text/html": [
       "<pre>| 256              | 6.39s        | 7.75%            |</pre>"
      ],
      "text/plain": [
       "| 256              | 6.39s        | 7.75%            |"
      ]
     },
     "metadata": {},
     "output_type": "display_data"
    },
    {
     "data": {
      "text/html": [
       "<pre>| 320              | 7.95s        | 9.75%            |</pre>"
      ],
      "text/plain": [
       "| 320              | 7.95s        | 9.75%            |"
      ]
     },
     "metadata": {},
     "output_type": "display_data"
    },
    {
     "data": {
      "text/html": [
       "<pre>| 640              | 15.72s       | 19.5%            |</pre>"
      ],
      "text/plain": [
       "| 640              | 15.72s       | 19.5%            |"
      ]
     },
     "metadata": {},
     "output_type": "display_data"
    },
    {
     "data": {
      "text/html": [
       "<pre>| 960              | 23.48s       | 29.25%           |</pre>"
      ],
      "text/plain": [
       "| 960              | 23.48s       | 29.25%           |"
      ]
     },
     "metadata": {},
     "output_type": "display_data"
    },
    {
     "data": {
      "text/html": [
       "<pre>| 1280             | 31.23s       | 39%              |</pre>"
      ],
      "text/plain": [
       "| 1280             | 31.23s       | 39%              |"
      ]
     },
     "metadata": {},
     "output_type": "display_data"
    },
    {
     "data": {
      "text/html": [
       "<pre>| 1600             | 38.99s       | 49%              |</pre>"
      ],
      "text/plain": [
       "| 1600             | 38.99s       | 49%              |"
      ]
     },
     "metadata": {},
     "output_type": "display_data"
    },
    {
     "data": {
      "text/html": [
       "<pre>| 1920             | 46.75s       | 58.75%           |</pre>"
      ],
      "text/plain": [
       "| 1920             | 46.75s       | 58.75%           |"
      ]
     },
     "metadata": {},
     "output_type": "display_data"
    },
    {
     "data": {
      "text/html": [
       "<pre>| 2240             | 54.53s       | 68.5%            |</pre>"
      ],
      "text/plain": [
       "| 2240             | 54.53s       | 68.5%            |"
      ]
     },
     "metadata": {},
     "output_type": "display_data"
    },
    {
     "data": {
      "text/html": [
       "<pre>| 2560             | 1m 2s        | 78.25%           |</pre>"
      ],
      "text/plain": [
       "| 2560             | 1m 2s        | 78.25%           |"
      ]
     },
     "metadata": {},
     "output_type": "display_data"
    },
    {
     "data": {
      "text/html": [
       "<pre>| 2880             | 1m 10s       | 88%              |</pre>"
      ],
      "text/plain": [
       "| 2880             | 1m 10s       | 88%              |"
      ]
     },
     "metadata": {},
     "output_type": "display_data"
    },
    {
     "data": {
      "text/html": [
       "<pre>| 3200             | 1m 16s       | 98%              |</pre>"
      ],
      "text/plain": [
       "| 3200             | 1m 16s       | 98%              |"
      ]
     },
     "metadata": {},
     "output_type": "display_data"
    },
    {
     "data": {
      "text/html": [
       "<pre>| 3223             | 1m 18s       | 100%             |</pre>"
      ],
      "text/plain": [
       "| 3223             | 1m 18s       | 100%             |"
      ]
     },
     "metadata": {},
     "output_type": "display_data"
    },
    {
     "data": {
      "text/html": [
       "<pre>+------------------+--------------+------------------+</pre>"
      ],
      "text/plain": [
       "+------------------+--------------+------------------+"
      ]
     },
     "metadata": {},
     "output_type": "display_data"
    },
    {
     "name": "stdout",
     "output_type": "stream",
     "text": [
      "0.9236735960285448\n"
     ]
    },
    {
     "name": "stderr",
     "output_type": "stream",
     "text": [
      "2023-02-11 02:41:55.055416: I tensorflow/core/platform/cpu_feature_guard.cc:193] This TensorFlow binary is optimized with oneAPI Deep Neural Network Library (oneDNN) to use the following CPU instructions in performance-critical operations:  AVX2 AVX512F AVX512_VNNI FMA\n",
      "To enable them in other operations, rebuild TensorFlow with the appropriate compiler flags.\n",
      "WARNING:root:TensorFlow version 2.11.0 detected. Last version known to be fully compatible is 2.2.0 .\n",
      "WARNING:root:Keras version 2.11.0 detected. Last version known to be fully compatible of Keras is 2.2.4 .\n"
     ]
    },
    {
     "name": "stdout",
     "output_type": "stream",
     "text": [
      "Downloading https://docs-assets.developer.apple.com/turicreate/models/resnet-50-TuriCreate-6.0.h5\n",
      "Download completed: /var/folders/z7/n5j12mtn1_71fgflrqr2vj_80000gn/T/model_cache/resnet-50-TuriCreate-6.0.h5\n",
      "Downloading https://docs-assets.developer.apple.com/turicreate/models/resnet-50-TuriCreate-6.0.mlmodel\n",
      "Download completed: /var/folders/z7/n5j12mtn1_71fgflrqr2vj_80000gn/T/model_cache/resnet-50-TuriCreate-6.0.mlmodel\n"
     ]
    }
   ],
   "source": [
    "# Create the model\n",
    "model = tc.image_classifier.create(train_data, target='label')\n",
    "\n",
    "# Save predictions to an SArray\n",
    "predictions = model.predict(test_data)\n",
    "\n",
    "# Evaluate the model and print the results\n",
    "metrics = model.evaluate(test_data)\n",
    "print(metrics['accuracy'])\n",
    "\n",
    "# Save the model for later use in Turi Create\n",
    "model.save('open-eyes.model')\n",
    "\n",
    "# Export for use in Core ML\n",
    "model.export_coreml('OpenEyesImageClassifier.mlmodel')\n"
   ]
  }
 ],
 "metadata": {
  "kernelspec": {
   "display_name": "Python 3",
   "language": "python",
   "name": "python3"
  },
  "language_info": {
   "codemirror_mode": {
    "name": "ipython",
    "version": 3
   },
   "file_extension": ".py",
   "mimetype": "text/x-python",
   "name": "python",
   "nbconvert_exporter": "python",
   "pygments_lexer": "ipython3",
   "version": "3.8.13+"
  },
  "orig_nbformat": 4,
  "vscode": {
   "interpreter": {
    "hash": "fb2a5cd62f09a84e5c32e79492101e2b23b40cbd49929fec39661c7f99156a05"
   }
  }
 },
 "nbformat": 4,
 "nbformat_minor": 2
}
